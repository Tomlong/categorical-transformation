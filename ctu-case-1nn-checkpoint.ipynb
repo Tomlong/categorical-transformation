{
 "cells": [
  {
   "cell_type": "code",
   "execution_count": 151,
   "metadata": {
    "collapsed": false
   },
   "outputs": [],
   "source": [
    "import time\n",
    "import pandas as pd\n",
    "import numpy as np\n",
    "from collections import Counter\n",
    "from sklearn.svm import SVC\n",
    "from collections import Counter \n",
    "from sklearn import preprocessing\n",
    "from sklearn.decomposition import PCA\n",
    "from sklearn.ensemble import BaggingClassifier\n",
    "from sklearn.cross_validation import cross_val_score\n",
    "from sklearn.metrics import confusion_matrix as confu\n",
    "from sklearn.neighbors import KNeighborsClassifier as knn"
   ]
  },
  {
   "cell_type": "code",
   "execution_count": 475,
   "metadata": {
    "collapsed": false
   },
   "outputs": [],
   "source": [
    "train = pd.read_csv('botnet_4.binetflow')\n",
    "test = pd.read_csv('botnet_3.binetflow')"
   ]
  },
  {
   "cell_type": "code",
   "execution_count": 476,
   "metadata": {
    "collapsed": true
   },
   "outputs": [],
   "source": [
    "key_str = {'Normal':0, 'Botnet':1, 'Background':2}"
   ]
  },
  {
   "cell_type": "markdown",
   "metadata": {},
   "source": [
    "# Fill 0 to missing value"
   ]
  },
  {
   "cell_type": "code",
   "execution_count": 479,
   "metadata": {
    "collapsed": true
   },
   "outputs": [],
   "source": [
    "train = train.fillna(0)\n",
    "test = test.fillna(0)"
   ]
  },
  {
   "cell_type": "code",
   "execution_count": 480,
   "metadata": {
    "collapsed": false
   },
   "outputs": [],
   "source": [
    "train = train[train['State'] != 0]\n",
    "test = test[test['State'] != 0]"
   ]
  },
  {
   "cell_type": "markdown",
   "metadata": {},
   "source": [
    "# Drop unuse columns and row with missing value"
   ]
  },
  {
   "cell_type": "raw",
   "metadata": {},
   "source": [
    "train_origin: 129832 train_del_missing: 122148"
   ]
  },
  {
   "cell_type": "code",
   "execution_count": 481,
   "metadata": {
    "collapsed": false
   },
   "outputs": [
    {
     "data": {
      "text/plain": [
       "[None,\n",
       " None,\n",
       " None,\n",
       " None,\n",
       " None,\n",
       " None,\n",
       " None,\n",
       " None,\n",
       " None,\n",
       " None,\n",
       " None,\n",
       " None,\n",
       " None,\n",
       " None,\n",
       " None,\n",
       " None,\n",
       " None,\n",
       " None,\n",
       " None,\n",
       " None,\n",
       " None,\n",
       " None,\n",
       " None,\n",
       " None,\n",
       " None,\n",
       " None,\n",
       " None,\n",
       " None,\n",
       " None,\n",
       " None,\n",
       " None,\n",
       " None,\n",
       " None,\n",
       " None,\n",
       " None,\n",
       " None,\n",
       " None,\n",
       " None,\n",
       " None,\n",
       " None,\n",
       " None,\n",
       " None,\n",
       " None,\n",
       " None,\n",
       " None,\n",
       " None,\n",
       " None,\n",
       " None,\n",
       " None,\n",
       " None,\n",
       " None,\n",
       " None,\n",
       " None,\n",
       " None,\n",
       " None,\n",
       " None,\n",
       " None,\n",
       " None,\n",
       " None,\n",
       " None,\n",
       " None,\n",
       " None,\n",
       " None,\n",
       " None,\n",
       " None,\n",
       " None,\n",
       " None,\n",
       " None,\n",
       " None,\n",
       " None,\n",
       " None,\n",
       " None,\n",
       " None,\n",
       " None,\n",
       " None,\n",
       " None,\n",
       " None,\n",
       " None,\n",
       " None,\n",
       " None,\n",
       " None,\n",
       " None,\n",
       " None,\n",
       " None,\n",
       " None,\n",
       " None,\n",
       " None,\n",
       " None,\n",
       " None,\n",
       " None,\n",
       " None,\n",
       " None,\n",
       " None,\n",
       " None,\n",
       " None,\n",
       " None,\n",
       " None,\n",
       " None,\n",
       " None,\n",
       " None,\n",
       " None,\n",
       " None,\n",
       " None,\n",
       " None,\n",
       " None,\n",
       " None,\n",
       " None,\n",
       " None,\n",
       " None,\n",
       " None,\n",
       " None,\n",
       " None,\n",
       " None,\n",
       " None,\n",
       " None,\n",
       " None,\n",
       " None,\n",
       " None,\n",
       " None,\n",
       " None,\n",
       " None,\n",
       " None,\n",
       " None,\n",
       " None,\n",
       " None,\n",
       " None,\n",
       " None,\n",
       " None,\n",
       " None,\n",
       " None,\n",
       " None,\n",
       " None,\n",
       " None,\n",
       " None,\n",
       " None,\n",
       " None,\n",
       " None,\n",
       " None,\n",
       " None,\n",
       " None,\n",
       " None,\n",
       " None,\n",
       " None,\n",
       " None,\n",
       " None,\n",
       " None,\n",
       " None,\n",
       " None,\n",
       " None,\n",
       " None,\n",
       " None,\n",
       " None,\n",
       " None,\n",
       " None,\n",
       " None,\n",
       " None,\n",
       " None,\n",
       " None,\n",
       " None,\n",
       " None,\n",
       " None,\n",
       " None,\n",
       " None,\n",
       " None,\n",
       " None,\n",
       " None,\n",
       " None,\n",
       " None,\n",
       " None,\n",
       " None,\n",
       " None,\n",
       " None,\n",
       " None,\n",
       " None,\n",
       " None,\n",
       " None,\n",
       " None,\n",
       " None,\n",
       " None,\n",
       " None,\n",
       " None,\n",
       " None,\n",
       " None,\n",
       " None,\n",
       " None,\n",
       " None,\n",
       " None,\n",
       " None,\n",
       " None,\n",
       " None,\n",
       " None,\n",
       " None,\n",
       " None,\n",
       " None,\n",
       " None,\n",
       " None,\n",
       " None,\n",
       " None,\n",
       " None,\n",
       " None,\n",
       " None,\n",
       " None,\n",
       " None,\n",
       " None,\n",
       " None,\n",
       " None,\n",
       " None,\n",
       " None,\n",
       " None,\n",
       " None,\n",
       " None,\n",
       " None,\n",
       " None,\n",
       " None,\n",
       " None,\n",
       " None,\n",
       " None,\n",
       " None,\n",
       " None,\n",
       " None,\n",
       " None,\n",
       " None,\n",
       " None,\n",
       " None,\n",
       " None,\n",
       " None,\n",
       " None,\n",
       " None,\n",
       " None,\n",
       " None,\n",
       " None,\n",
       " None,\n",
       " None,\n",
       " None,\n",
       " None,\n",
       " None,\n",
       " None,\n",
       " None,\n",
       " None,\n",
       " None,\n",
       " None,\n",
       " None,\n",
       " None,\n",
       " None,\n",
       " None,\n",
       " None,\n",
       " None,\n",
       " None,\n",
       " None,\n",
       " None,\n",
       " None,\n",
       " None,\n",
       " None,\n",
       " None,\n",
       " None,\n",
       " None,\n",
       " None,\n",
       " None]"
      ]
     },
     "execution_count": 481,
     "metadata": {},
     "output_type": "execute_result"
    }
   ],
   "source": [
    "train_origin = train.copy()\n",
    "column_unuse = ['StartTime', 'SrcAddr', 'DstAddr', 'Sport']\n",
    "column_str = ['Proto', 'State','Dir','Dport']\n",
    "missing_state = []\n",
    "map(lambda word: missing_state.append(word) if word[-1]=='_' else None, np.unique(train['State']))\n",
    "map(lambda word: missing_state.append(word) if word[-1]=='_' else None, np.unique(test['State']))"
   ]
  },
  {
   "cell_type": "code",
   "execution_count": 482,
   "metadata": {
    "collapsed": false
   },
   "outputs": [],
   "source": [
    "for column in column_unuse:\n",
    "    del train[column]\n",
    "    del test[column]\n",
    "    \n",
    "for state in missing_state:\n",
    "    train = train[train['State'] != state]\n",
    "    test = test[test['State'] != state]"
   ]
  },
  {
   "cell_type": "code",
   "execution_count": 485,
   "metadata": {
    "collapsed": true
   },
   "outputs": [],
   "source": [
    "train_index_icmp = np.where(train['Label'] == 'flow=From-Botnet-V45-UDP-Attempt')[0].tolist()"
   ]
  },
  {
   "cell_type": "code",
   "execution_count": 486,
   "metadata": {
    "collapsed": false
   },
   "outputs": [
    {
     "data": {
      "text/plain": [
       "1444"
      ]
     },
     "execution_count": 486,
     "metadata": {},
     "output_type": "execute_result"
    }
   ],
   "source": [
    "len(train_index_bot)"
   ]
  },
  {
   "cell_type": "code",
   "execution_count": 451,
   "metadata": {
    "collapsed": false
   },
   "outputs": [
    {
     "data": {
      "text/plain": [
       "[('flow=From-Botnet-V45-ICMP', 806),\n",
       " ('flow=From-Botnet-V45-UDP-Attempt', 501),\n",
       " ('flow=From-Botnet-V45-UDP-DNS', 70),\n",
       " ('flow=From-Botnet-V45-TCP-CC73-Not-Encrypted', 47),\n",
       " ('flow=From-Botnet-V45-TCP-HTTP-Google-Net-Established-6', 5),\n",
       " ('flow=From-Botnet-V45-TCP-CC106-IRC-Not-Encrypted', 5),\n",
       " ('flow=From-Botnet-V45-TCP-Established-HTTP-Ad-40', 3),\n",
       " ('flow=From-Botnet-V45-TCP-Established-HTTP-Ad-62', 2),\n",
       " ('flow=From-Botnet-V45-TCP-Established', 2),\n",
       " ('flow=From-Botnet-V45-TCP-WEB-Established', 1),\n",
       " ('flow=From-Botnet-V45-TCP-Established-HTTP-Ad-4', 1),\n",
       " ('flow=From-Botnet-V45-TCP-Established-HTTP-Ad-15', 1)]"
      ]
     },
     "execution_count": 451,
     "metadata": {},
     "output_type": "execute_result"
    }
   ],
   "source": [
    "#sorted(Counter(train.iloc[train_index_bot]['Label']))\n",
    "sorted(Counter(train.iloc[train_index_bot]['Label']).iteritems(), key=lambda (k,v): (v,k),reverse=True)"
   ]
  },
  {
   "cell_type": "code",
   "execution_count": 487,
   "metadata": {
    "collapsed": false
   },
   "outputs": [
    {
     "data": {
      "text/plain": [
       "[('udp_INT', 501)]"
      ]
     },
     "execution_count": 487,
     "metadata": {},
     "output_type": "execute_result"
    }
   ],
   "source": [
    "str_combination = []\n",
    "map(lambda x: str_combination.append((x[0]+'_'+x[1])) if (x[0]+'_'+x[1]) not in str_combination else None,train.iloc[train_index_icmp][column_str].values)\n",
    "pro_ser_flag_count = {}\n",
    "for x in str_combination:\n",
    "    pro_ser_flag_count[x] = 0\n",
    "for line in train.iloc[train_index_icmp][column_str].values:\n",
    "    key = line[0]+'_'+line[1]\n",
    "    pro_ser_flag_count[key] = pro_ser_flag_count[key] + 1\n",
    "    \n",
    "    \n",
    "sorted_dic = sorted(pro_ser_flag_count.iteritems(), key=lambda (k,v): (v,k),reverse=True)\n",
    "new_string_columns = []\n",
    "new_string_columns_dic = {}\n",
    "loc_value = 1\n",
    "new_string_columns.append('others')\n",
    "new_string_columns_dic['others'] = 0\n",
    "for string in sorted_dic:\n",
    "    if  (string[1] > 0) & (len(new_string_columns) < 200):\n",
    "        new_string_columns.append(string[0])\n",
    "        new_string_columns_dic[string[0]] = loc_value\n",
    "        loc_value = loc_value+1\n",
    "    else:\n",
    "        break\n",
    "        \n",
    "sorted_dic"
   ]
  },
  {
   "cell_type": "markdown",
   "metadata": {},
   "source": [
    "# Transfer str label to int lable"
   ]
  },
  {
   "cell_type": "code",
   "execution_count": 460,
   "metadata": {
    "collapsed": true
   },
   "outputs": [],
   "source": [
    "label_num = []\n",
    "label_num_test = []\n",
    "map(lambda label: map(lambda key: label_num.append(key_str[key]) if key in label else None,key_str.keys()), train['Label'])\n",
    "map(lambda label: map(lambda key: label_num_test.append(key_str[key]) if key in label else None,key_str.keys()), test['Label'])\n",
    "train['Label'] = label_num\n",
    "test['Label'] = label_num_test"
   ]
  },
  {
   "cell_type": "markdown",
   "metadata": {},
   "source": [
    "# each protocol index"
   ]
  },
  {
   "cell_type": "code",
   "execution_count": 443,
   "metadata": {
    "collapsed": true
   },
   "outputs": [],
   "source": [
    "train_index_bot = np.where(np.array(label_num) == 1)[0].tolist()"
   ]
  },
  {
   "cell_type": "code",
   "execution_count": 418,
   "metadata": {
    "collapsed": false
   },
   "outputs": [],
   "source": [
    "train_index = np.where(train['Label'] == 0)[0].tolist() + np.where(train['Label'] == 1)[0].tolist()\n",
    "test_index = np.where(test['Label'] == 0)[0].tolist() + np.where(test['Label'] == 1)[0].tolist()"
   ]
  },
  {
   "cell_type": "code",
   "execution_count": 419,
   "metadata": {
    "collapsed": false
   },
   "outputs": [
    {
     "data": {
      "text/plain": [
       "(26701, 119454)"
      ]
     },
     "execution_count": 419,
     "metadata": {},
     "output_type": "execute_result"
    }
   ],
   "source": [
    "len(train_index), len(test_index)"
   ]
  },
  {
   "cell_type": "markdown",
   "metadata": {},
   "source": [
    "# Normalize data"
   ]
  },
  {
   "cell_type": "code",
   "execution_count": 466,
   "metadata": {
    "collapsed": false
   },
   "outputs": [],
   "source": [
    "def normalization(training_numpy, testing_numpy, columns):\n",
    "    min_max = preprocessing.MinMaxScaler()\n",
    "    min_max.partial_fit(training_numpy)\n",
    "    x_scaled = min_max.fit_transform(training_numpy)\n",
    "    testting_x_scaled = min_max.transform(testing_numpy)\n",
    "    training_norm = pd.DataFrame(x_scaled, columns = columns)\n",
    "    testing_norm = pd.DataFrame(testting_x_scaled, columns = columns)\n",
    "    return (training_norm.values, testing_norm.values)\n",
    "\n",
    "def replace_value(training_normal_numpy, key, loc):  \n",
    "    training_normal_numpy[loc][key+6] = 1"
   ]
  },
  {
   "cell_type": "markdown",
   "metadata": {},
   "source": [
    "# Numeric str column dic"
   ]
  },
  {
   "cell_type": "code",
   "execution_count": 467,
   "metadata": {
    "collapsed": false
   },
   "outputs": [],
   "source": [
    "state_numeric_dic = {}\n",
    "proto_numeric_dic = {}\n",
    "dir_numeric_dic = {}\n",
    "dport_numeric_dic = {}\n",
    "unique_state = Counter(train.iloc[train_index]['State'])\n",
    "unique_proto = Counter(train.iloc[train_index]['Proto'])\n",
    "unique_dir = Counter(train.iloc[train_index]['Dir'])\n",
    "unique_dport = Counter(train.iloc[train_index]['Dport'])\n",
    "\n",
    "for i,key in zip((np.random.choice(len(unique_state),len(unique_state),replace=False) + 1), unique_state.keys()):\n",
    "    state_numeric_dic[key] = i\n",
    "for i,key in zip((np.random.choice(len(unique_proto),len(unique_proto),replace=False) + 1), unique_proto.keys()):\n",
    "    proto_numeric_dic[key] = i\n",
    "for i,key in zip((np.random.choice(len(unique_dir),len(unique_dir),replace=False) + 1), unique_dir.keys()):\n",
    "    dir_numeric_dic[key] = i\n",
    "for i,key in zip((np.random.choice(len(unique_dport),len(unique_dport),replace=False) + 1), unique_dport.keys()):\n",
    "    dport_numeric_dic[key] = i\n",
    "    \n",
    "state_numeric_array = []\n",
    "state_numeric_array_test = []\n",
    "proto_numeric_array = []\n",
    "proto_numeric_array_test = []\n",
    "dir_numeric_array = []\n",
    "dir_numeric_array_test = []\n",
    "dport_numeric_array = []\n",
    "dport_numeric_array_test = []\n",
    "map(lambda value: state_numeric_array.append(state_numeric_dic[value]) if value in state_numeric_dic.keys() else state_numeric_array.append(0), train['State'])\n",
    "map(lambda value: state_numeric_array_test.append(state_numeric_dic[value]) if value in state_numeric_dic.keys() else state_numeric_array_test.append(0), test['State'])\n",
    "map(lambda value: proto_numeric_array.append(proto_numeric_dic[value]) if value in proto_numeric_dic.keys() else proto_numeric_array.append(0), train['Proto'])\n",
    "map(lambda value: proto_numeric_array_test.append(proto_numeric_dic[value]) if value in proto_numeric_dic.keys() else proto_numeric_array_test.append(0), test['Proto'])\n",
    "map(lambda value: dir_numeric_array.append(dir_numeric_dic[value]) if value in dir_numeric_dic.keys() else dir_numeric_array.append(0), train['Dir'])\n",
    "map(lambda value: dir_numeric_array_test.append(dir_numeric_dic[value]) if value in dir_numeric_dic.keys() else dir_numeric_array_test.append(0), test['Dir'])\n",
    "map(lambda value: dport_numeric_array.append(dport_numeric_dic[value]) if value in dport_numeric_dic.keys() else dport_numeric_array.append(0), train['Dport'])\n",
    "map(lambda value: dport_numeric_array_test.append(dport_numeric_dic[value]) if value in dport_numeric_dic.keys() else dport_numeric_array_test.append(0), test['Dport'])\n",
    "\n",
    "train_copy= train.copy()\n",
    "test_copy = test.copy()\n",
    "train_copy['state_numeric'] = state_numeric_array\n",
    "train_copy['proto_numeric'] = proto_numeric_array\n",
    "train_copy['dir_numeric'] = dir_numeric_array\n",
    "train_copy['dport_numeric'] = dport_numeric_array\n",
    "\n",
    "test_copy['state_numeric'] = state_numeric_array_test\n",
    "test_copy['proto_numeric'] = proto_numeric_array_test\n",
    "test_copy['dir_numeric'] = dir_numeric_array_test\n",
    "test_copy['dport_numeric'] = dport_numeric_array_test\n",
    "\n",
    "\n",
    "for column in column_str:  \n",
    "    del(test_copy[column])\n",
    "    del(train_copy[column])\n",
    "del test_copy['Label']\n",
    "del train_copy['Label']\n",
    "train_numeric_numpy = train_copy.values\n",
    "test_numeric_numpy = test_copy.values\n",
    "\n",
    "(train_numeric_numpy, test_numeric_numpy) = normalization(train_numeric_numpy[train_index], test_numeric_numpy[test_index], train_copy.columns)\n",
    "#test_numeric_numpy = normalization(test_numeric_numpy[test_index], test_numeric_numpy[test_index[:2]], train_copy.columns)"
   ]
  },
  {
   "cell_type": "code",
   "execution_count": null,
   "metadata": {
    "collapsed": false,
    "scrolled": true
   },
   "outputs": [],
   "source": [
    "clf = knn(n_neighbors=1)\n",
    "\n",
    "score_numeric_f1= np.average(cross_val_score(clf, train_numeric_numpy, np.array(label_num)[train_index], cv=5, n_jobs=-1, scoring='f1'))\n",
    "score_numeric= np.average(cross_val_score(clf, train_numeric_numpy, np.array(label_num)[train_index], cv=5, n_jobs=-1))\n",
    "print 'numeric:     ', 'Acc:', score_numeric, 'F1', score_numeric_f1\n"
   ]
  },
  {
   "cell_type": "markdown",
   "metadata": {},
   "source": []
  },
  {
   "cell_type": "markdown",
   "metadata": {},
   "source": [
    "# Combination (Proto & State)"
   ]
  },
  {
   "cell_type": "code",
   "execution_count": 468,
   "metadata": {
    "collapsed": false
   },
   "outputs": [
    {
     "name": "stdout",
     "output_type": "stream",
     "text": [
      "Dir\n",
      "Dport\n",
      "Dir\n",
      "Dport\n"
     ]
    }
   ],
   "source": [
    "str_combination = []\n",
    "map(lambda x: str_combination.append((x[0]+'_'+x[1])) if (x[0]+'_'+x[1]) not in str_combination else None,train.iloc[train_index][column_str].values)\n",
    "pro_ser_flag_count = {}\n",
    "for x in str_combination:\n",
    "    pro_ser_flag_count[x] = 0\n",
    "for line in train.iloc[train_index_bot][column_str].values:\n",
    "    key = line[0]+'_'+line[1]\n",
    "    pro_ser_flag_count[key] = pro_ser_flag_count[key] + 1\n",
    "    \n",
    "    \n",
    "sorted_dic = sorted(pro_ser_flag_count.iteritems(), key=lambda (k,v): (v,k),reverse=True)\n",
    "new_string_columns = []\n",
    "new_string_columns_dic = {}\n",
    "loc_value = 1\n",
    "new_string_columns.append('others')\n",
    "new_string_columns_dic['others'] = 0\n",
    "for string in sorted_dic:\n",
    "    if  (string[1] > 0) & (len(new_string_columns) < 200):\n",
    "        new_string_columns.append(string[0])\n",
    "        new_string_columns_dic[string[0]] = loc_value\n",
    "        loc_value = loc_value+1\n",
    "    else:\n",
    "        break\n",
    "\n",
    "train_copy = train.copy()\n",
    "test_copy = test.copy()\n",
    "for column_name in new_string_columns:\n",
    "    test_copy[column_name] = np.zeros(len(test))\n",
    "    train_copy[column_name] = np.zeros(len(train))\n",
    "    \n",
    "string_vector = np.zeros([len(train_copy),len(new_string_columns)])\n",
    "string_vector_test = np.zeros([len(test_copy), len(new_string_columns)])\n",
    "string_vector_loc = []\n",
    "string_vector_loc_test = []\n",
    "\n",
    "map(lambda x: string_vector_loc.append(new_string_columns_dic[(x[0]+'_'+x[1])]) if ((x[0]+'_'+x[1])) in new_string_columns \\\n",
    "    else string_vector_loc.append(new_string_columns_dic['others']),train_copy[column_str].values)\n",
    "map(lambda x: string_vector_loc_test.append(new_string_columns_dic[(x[0]+'_'+x[1])]) if ((x[0]+'_'+x[1])) in new_string_columns \\\n",
    "    else string_vector_loc_test.append(new_string_columns_dic['others']),test_copy[column_str].values)\n",
    "\n",
    "for column_name in column_str[2:]: \n",
    "    print column_name\n",
    "    train_copy = train_copy.join(pd.get_dummies(train_copy.iloc[train_index][column_name]))\n",
    "\n",
    "\n",
    "for column_name in column_str[2:]: \n",
    "    print column_name\n",
    "    for each_column in np.unique(train.iloc[train_index][column_name]):\n",
    "        now_column_test = np.zeros(len(test))\n",
    "        index_test = np.where(test_copy[column_name] == each_column)[0].tolist()\n",
    "        now_column_test[index_test] = 1\n",
    "        test_copy[each_column] = now_column_test\n",
    "\n",
    "#test_copy = test.copy()\n",
    "for column in column_str:  \n",
    "    del(test_copy[column])\n",
    "    del(train_copy[column])\n",
    "del test_copy['Label']\n",
    "del train_copy['Label']\n",
    "train_combine_numpy = train_copy.values\n",
    "test_combine_numpy = test_copy.values\n",
    "\n",
    "map(lambda i: replace_value(train_combine_numpy, string_vector_loc[i], i),train_index)\n",
    "map(lambda i: replace_value(test_combine_numpy, string_vector_loc_test[i], i),test_index)\n",
    "\n",
    "(train_combine_numpy, test_combine_numpy) = normalization(train_combine_numpy[train_index], test_combine_numpy[test_index], train_copy.columns)\n",
    "#test_combine_numpy = normalization(test_combine_numpy[test_index], test_combine_numpy[test_index[:2]], test_copy.columns)\n",
    "\n"
   ]
  },
  {
   "cell_type": "markdown",
   "metadata": {},
   "source": [
    "# Combination (All)"
   ]
  },
  {
   "cell_type": "code",
   "execution_count": 469,
   "metadata": {
    "collapsed": false
   },
   "outputs": [],
   "source": [
    "str_combination = []\n",
    "map(lambda x: str_combination.append((x[0]+'_'+x[1]+'_'+str(x[2])+'_'+str(x[3]))) if ((x[0]+'_'+x[1]+'_'+str(x[2])+'_'+str(x[3]))) not in str_combination else None,train.iloc[train_index][column_str].values)\n",
    "pro_ser_flag_count = {}\n",
    "for x in str_combination:\n",
    "    pro_ser_flag_count[x] = 0\n",
    "for line in train.iloc[train_index][column_str].values:\n",
    "    key = line[0]+'_'+line[1]+'_'+str(line[2])+'_'+str(line[3])\n",
    "    pro_ser_flag_count[key] = pro_ser_flag_count[key] + 1\n",
    "\n",
    "sorted_dic = sorted(pro_ser_flag_count.iteritems(), key=lambda (k,v): (v,k),reverse=True)\n",
    "new_string_columns = []\n",
    "new_string_columns_dic = {}\n",
    "loc_value = 1\n",
    "new_string_columns.append('others')\n",
    "new_string_columns_dic['others'] = 0\n",
    "for string in sorted_dic:\n",
    "    #print string\n",
    "    if  (string[1] > 0) & (len(new_string_columns) < 200):\n",
    "        new_string_columns.append(string[0])\n",
    "        new_string_columns_dic[string[0]] = loc_value\n",
    "        loc_value = loc_value+1\n",
    "    else:\n",
    "        break\n",
    "        \n",
    "train_copy = train.copy()\n",
    "test_copy = test.copy()\n",
    "for column_name in new_string_columns:\n",
    "    test_copy[column_name] = np.zeros(len(test))\n",
    "    train_copy[column_name] = np.zeros(len(train))\n",
    "    \n",
    "string_vector = np.zeros([len(train_copy),len(new_string_columns)])\n",
    "string_vector_test = np.zeros([len(test_copy), len(new_string_columns)])\n",
    "string_vector_loc = []\n",
    "string_vector_loc_test = []\n",
    "\n",
    "map(lambda x: string_vector_loc.append(new_string_columns_dic[(x[0]+'_'+x[1]+'_'+str(x[2])+'_'+str(x[3]))]) if ((x[0]+'_'+x[1]+'_'+str(x[2])+'_'+str(x[3]))) in new_string_columns \\\n",
    "    else string_vector_loc.append(new_string_columns_dic['others']),train_copy[column_str].values)\n",
    "map(lambda x: string_vector_loc_test.append(new_string_columns_dic[(x[0]+'_'+x[1]+'_'+str(x[2])+'_'+str(x[3]))]) if ((x[0]+'_'+x[1]+'_'+str(x[2])+'_'+str(x[3]))) in new_string_columns \\\n",
    "    else string_vector_loc_test.append(new_string_columns_dic['others']),test_copy[column_str].values)\n",
    "\n",
    "#train_copy = train.copy()\n",
    "#test_copy = test.copy()\n",
    "for column in column_str:  \n",
    "    del(test_copy[column])\n",
    "    del(train_copy[column])\n",
    "del test_copy['Label']\n",
    "del train_copy['Label']\n",
    "train_combine_all_numpy = train_copy.values\n",
    "test_combine_all_numpy = test_copy.values\n",
    "\n",
    "map(lambda i: replace_value(train_combine_all_numpy, string_vector_loc[i], i),train_index)\n",
    "map(lambda i: replace_value(test_combine_all_numpy, string_vector_loc_test[i], i),test_index)\n",
    "\n",
    "(train_combine_all_numpy, test_combine_all_numpy) = normalization(train_combine_all_numpy[train_index], test_combine_all_numpy[test_index], train_copy.columns)\n",
    "#test_combine_all_numpy = normalization(test_combine_all_numpy[test_index], test_combine_all_numpy[train_index[:2]], test_copy.columns)"
   ]
  },
  {
   "cell_type": "markdown",
   "metadata": {},
   "source": [
    "# All binary coding"
   ]
  },
  {
   "cell_type": "code",
   "execution_count": 470,
   "metadata": {
    "collapsed": false
   },
   "outputs": [
    {
     "name": "stdout",
     "output_type": "stream",
     "text": [
      "Proto\n",
      "State\n",
      "Dir\n",
      "Dport\n",
      "Proto\n",
      "State\n",
      "Dir\n",
      "Dport\n"
     ]
    }
   ],
   "source": [
    "train_copy = train.copy()\n",
    "test_copy=test.copy()\n",
    "for column_name in column_str: \n",
    "    print column_name\n",
    "    train_copy = train_copy.join(pd.get_dummies(train_copy.iloc[train_index][column_name]))\n",
    "for column_name in column_str: \n",
    "    print column_name\n",
    "    for each_column in np.unique(train.iloc[train_index][column_name]):\n",
    "        now_column_test = np.zeros(len(test))\n",
    "        index_test = np.where(test_copy[column_name] == each_column)[0].tolist()\n",
    "        now_column_test[index_test] = 1\n",
    "        test_copy[each_column] = now_column_test\n",
    "\n",
    "for column in column_str: \n",
    "    del(test_copy[column])\n",
    "    del(train_copy[column])\n",
    "del test_copy['Label']\n",
    "del train_copy['Label']\n",
    "test_binary_numpy = test_copy.values\n",
    "train_binary_numpy = train_copy.values\n",
    "\n",
    "(train_binary_numpy,test_binary_numpy) = normalization(train_binary_numpy[train_index], test_binary_numpy[test_index], train_copy.columns)\n",
    "#test_binary_numpy = normalization(test_binary_numpy[test_index], test_binary_numpy[test_index[:2]], test_copy.columns)"
   ]
  },
  {
   "cell_type": "code",
   "execution_count": 465,
   "metadata": {
    "collapsed": false
   },
   "outputs": [
    {
     "name": "stdout",
     "output_type": "stream",
     "text": [
      "combine\n",
      "0.978318013629\n",
      "[[116857   2573]\n",
      " [    17      7]]\n"
     ]
    }
   ],
   "source": [
    "clf = knn(n_neighbors=1)\n",
    "clf.fit(train_combine_numpy, np.array(label_num)[train_index])\n",
    "print 'combine'\n",
    "print clf.score(test_combine_numpy, np.array(label_num_test)[test_index])\n",
    "print confu(clf.predict(test_combine_numpy), np.array(label_num_test)[test_index])"
   ]
  },
  {
   "cell_type": "code",
   "execution_count": null,
   "metadata": {
    "collapsed": true
   },
   "outputs": [],
   "source": [
    "# 4->3 svm\n",
    "clf = SVC(gam)\n",
    "clf.fit(train_numeric_numpy, np.array(label_num)[train_index])\n",
    "print 'numeric'\n",
    "print clf.score(test_numeric_numpy, np.array(label_num_test)[test_index])\n",
    "print confu(clf.predict(test_numeric_numpy), np.array(label_num_test)[test_index])\n",
    "\n",
    "clf.fit(train_combine_numpy, np.array(label_num)[train_index])\n",
    "print 'combine'\n",
    "print clf.score(test_combine_numpy, np.array(label_num_test)[test_index])\n",
    "print confu(clf.predict(test_combine_numpy), np.array(label_num_test)[test_index])\n",
    "\n",
    "clf.fit(train_binary_numpy, np.array(label_num)[train_index])\n",
    "print 'binary'\n",
    "print clf.score(test_binary_numpy, np.array(label_num_test)[test_index])\n",
    "print confu(clf.predict(test_binary_numpy), np.array(label_num_test)[test_index])\n",
    "\n",
    "clf.fit(train_combine_all_numpy, np.array(label_num)[train_index])\n",
    "print 'combine all'\n",
    "print clf.score(test_combine_all_numpy, np.array(label_num_test)[test_index])\n",
    "print confu(clf.predict(test_combine_all_numpy), np.array(label_num_test)[test_index])"
   ]
  },
  {
   "cell_type": "code",
   "execution_count": 428,
   "metadata": {
    "collapsed": false
   },
   "outputs": [
    {
     "name": "stdout",
     "output_type": "stream",
     "text": [
      "numeric\n",
      "0.978225927972\n",
      "[[116830   2557]\n",
      " [    44     23]]\n",
      "combine\n",
      "0.978401727862\n",
      "[[116865   2571]\n",
      " [     9      9]]\n",
      "binary\n",
      "0.978376613592\n",
      "[[116865   2574]\n",
      " [     9      6]]\n",
      "combine all\n",
      "0.980720612118\n",
      "[[116544   1973]\n",
      " [   330    607]]\n"
     ]
    }
   ],
   "source": [
    "# 4->3\n",
    "clf = knn(n_neighbors=10)\n",
    "clf.fit(train_numeric_numpy, np.array(label_num)[train_index])\n",
    "print 'numeric'\n",
    "print clf.score(test_numeric_numpy, np.array(label_num_test)[test_index])\n",
    "print confu(clf.predict(test_numeric_numpy), np.array(label_num_test)[test_index])\n",
    "\n",
    "clf.fit(train_combine_numpy, np.array(label_num)[train_index])\n",
    "print 'combine'\n",
    "print clf.score(test_combine_numpy, np.array(label_num_test)[test_index])\n",
    "print confu(clf.predict(test_combine_numpy), np.array(label_num_test)[test_index])\n",
    "\n",
    "clf.fit(train_binary_numpy, np.array(label_num)[train_index])\n",
    "print 'binary'\n",
    "print clf.score(test_binary_numpy, np.array(label_num_test)[test_index])\n",
    "print confu(clf.predict(test_binary_numpy), np.array(label_num_test)[test_index])\n",
    "\n",
    "clf.fit(train_combine_all_numpy, np.array(label_num)[train_index])\n",
    "print 'combine all'\n",
    "print clf.score(test_combine_all_numpy, np.array(label_num_test)[test_index])\n",
    "print confu(clf.predict(test_combine_all_numpy), np.array(label_num_test)[test_index])"
   ]
  },
  {
   "cell_type": "code",
   "execution_count": 410,
   "metadata": {
    "collapsed": false
   },
   "outputs": [
    {
     "name": "stdout",
     "output_type": "stream",
     "text": [
      "numeric\n",
      "0.946331598067\n",
      "[[25199  1375]\n",
      " [   58    69]]\n",
      "combine\n",
      "0.945320399985\n",
      "[[25210  1413]\n",
      " [   47    31]]\n",
      "binary\n",
      "0.951462492041\n",
      "[[25209  1248]\n",
      " [   48   196]]\n",
      "combine all\n",
      "0.945282948204\n",
      "[[25211  1415]\n",
      " [   46    29]]\n"
     ]
    }
   ],
   "source": [
    "# 3->4\n",
    "clf = knn(n_neighbors=1)\n",
    "clf.fit(train_numeric_numpy, np.array(label_num)[train_index])\n",
    "print 'numeric'\n",
    "print clf.score(test_numeric_numpy, np.array(label_num_test)[test_index])\n",
    "print confu(clf.predict(test_numeric_numpy), np.array(label_num_test)[test_index])\n",
    "\n",
    "clf.fit(train_combine_numpy, np.array(label_num)[train_index])\n",
    "print 'combine'\n",
    "print clf.score(test_combine_numpy, np.array(label_num_test)[test_index])\n",
    "print confu(clf.predict(test_combine_numpy), np.array(label_num_test)[test_index])\n",
    "\n",
    "clf.fit(train_binary_numpy, np.array(label_num)[train_index])\n",
    "print 'binary'\n",
    "print clf.score(test_binary_numpy, np.array(label_num_test)[test_index])\n",
    "print confu(clf.predict(test_binary_numpy), np.array(label_num_test)[test_index])\n",
    "\n",
    "clf.fit(train_combine_all_numpy, np.array(label_num)[train_index])\n",
    "print 'combine all'\n",
    "print clf.score(test_combine_all_numpy, np.array(label_num_test)[test_index])\n",
    "print confu(clf.predict(test_combine_all_numpy), np.array(label_num_test)[test_index])"
   ]
  },
  {
   "cell_type": "code",
   "execution_count": 393,
   "metadata": {
    "collapsed": false
   },
   "outputs": [
    {
     "name": "stdout",
     "output_type": "stream",
     "text": [
      "numeric\n",
      "0.956221198157\n",
      "[[1653   53]\n",
      " [  23    7]]\n",
      "combine\n",
      "0.95564516129\n",
      "[[1648   49]\n",
      " [  28   11]]\n",
      "binary\n",
      "0.95564516129\n",
      "[[1648   49]\n",
      " [  28   11]]\n",
      "combine all\n",
      "0.955069124424\n",
      "[[1646   48]\n",
      " [  30   12]]\n"
     ]
    }
   ],
   "source": [
    "# 5->7\n",
    "clf = knn(n_neighbors=1)\n",
    "clf.fit(train_numeric_numpy, np.array(label_num)[train_index])\n",
    "print 'numeric'\n",
    "print clf.score(test_numeric_numpy, np.array(label_num_test)[test_index])\n",
    "print confu(clf.predict(test_numeric_numpy), np.array(label_num_test)[test_index])\n",
    "\n",
    "clf.fit(train_combine_numpy, np.array(label_num)[train_index])\n",
    "print 'combine'\n",
    "print clf.score(test_combine_numpy, np.array(label_num_test)[test_index])\n",
    "print confu(clf.predict(test_combine_numpy), np.array(label_num_test)[test_index])\n",
    "\n",
    "clf.fit(train_binary_numpy, np.array(label_num)[train_index])\n",
    "print 'binary'\n",
    "print clf.score(test_binary_numpy, np.array(label_num_test)[test_index])\n",
    "print confu(clf.predict(test_binary_numpy), np.array(label_num_test)[test_index])\n",
    "\n",
    "clf.fit(train_combine_all_numpy, np.array(label_num)[train_index])\n",
    "print 'combine all'\n",
    "print clf.score(test_combine_all_numpy, np.array(label_num_test)[test_index])\n",
    "print confu(clf.predict(test_combine_all_numpy), np.array(label_num_test)[test_index])"
   ]
  },
  {
   "cell_type": "code",
   "execution_count": 376,
   "metadata": {
    "collapsed": false
   },
   "outputs": [
    {
     "name": "stdout",
     "output_type": "stream",
     "text": [
      "numeric\n",
      "0.865783410138\n",
      "[[1466   23]\n",
      " [ 210   37]]\n",
      "combine\n",
      "0.865783410138\n",
      "[[1466   23]\n",
      " [ 210   37]]\n",
      "binary\n",
      "0.865783410138\n",
      "[[1466   23]\n",
      " [ 210   37]]\n",
      "combine all\n",
      "0.861751152074\n",
      "[[1459   23]\n",
      " [ 217   37]]\n"
     ]
    }
   ],
   "source": [
    "# 13->7\n",
    "clf = knn(n_neighbors=1)\n",
    "clf.fit(train_numeric_numpy, np.array(label_num)[train_index])\n",
    "print 'numeric'\n",
    "print clf.score(test_numeric_numpy, np.array(label_num_test)[test_index])\n",
    "print confu(clf.predict(test_numeric_numpy), np.array(label_num_test)[test_index])\n",
    "\n",
    "clf.fit(train_combine_numpy, np.array(label_num)[train_index])\n",
    "print 'combine'\n",
    "print clf.score(test_combine_numpy, np.array(label_num_test)[test_index])\n",
    "print confu(clf.predict(test_combine_numpy), np.array(label_num_test)[test_index])\n",
    "\n",
    "clf.fit(train_binary_numpy, np.array(label_num)[train_index])\n",
    "print 'binary'\n",
    "print clf.score(test_binary_numpy, np.array(label_num_test)[test_index])\n",
    "print confu(clf.predict(test_binary_numpy), np.array(label_num_test)[test_index])\n",
    "\n",
    "clf.fit(train_combine_all_numpy, np.array(label_num)[train_index])\n",
    "print 'combine all'\n",
    "print clf.score(test_combine_all_numpy, np.array(label_num_test)[test_index])\n",
    "print confu(clf.predict(test_combine_all_numpy), np.array(label_num_test)[test_index])"
   ]
  },
  {
   "cell_type": "code",
   "execution_count": 361,
   "metadata": {
    "collapsed": false
   },
   "outputs": [
    {
     "name": "stdout",
     "output_type": "stream",
     "text": [
      "numeric\n",
      "0.857826887661\n",
      "[[3956   50]\n",
      " [ 722  702]]\n",
      "combine\n",
      "0.859668508287\n",
      "[[3964   48]\n",
      " [ 714  704]]\n",
      "binary\n",
      "0.859668508287\n",
      "[[3964   48]\n",
      " [ 714  704]]\n",
      "combine all\n",
      "0.856537753223\n",
      "[[3950   51]\n",
      " [ 728  701]]\n"
     ]
    }
   ],
   "source": [
    "# 13->5\n",
    "clf = knn(n_neighbors=1)\n",
    "clf.fit(train_numeric_numpy, np.array(label_num)[train_index])\n",
    "print 'numeric'\n",
    "print clf.score(test_numeric_numpy, np.array(label_num_test)[test_index])\n",
    "print confu(clf.predict(test_numeric_numpy), np.array(label_num_test)[test_index])\n",
    "\n",
    "clf.fit(train_combine_numpy, np.array(label_num)[train_index])\n",
    "print 'combine'\n",
    "print clf.score(test_combine_numpy, np.array(label_num_test)[test_index])\n",
    "print confu(clf.predict(test_combine_numpy), np.array(label_num_test)[test_index])\n",
    "\n",
    "clf.fit(train_binary_numpy, np.array(label_num)[train_index])\n",
    "print 'binary'\n",
    "print clf.score(test_binary_numpy, np.array(label_num_test)[test_index])\n",
    "print confu(clf.predict(test_binary_numpy), np.array(label_num_test)[test_index])\n",
    "\n",
    "clf.fit(train_combine_all_numpy, np.array(label_num)[train_index])\n",
    "print 'combine all'\n",
    "print clf.score(test_combine_all_numpy, np.array(label_num_test)[test_index])\n",
    "print confu(clf.predict(test_combine_all_numpy), np.array(label_num_test)[test_index])"
   ]
  },
  {
   "cell_type": "code",
   "execution_count": 346,
   "metadata": {
    "collapsed": false
   },
   "outputs": [
    {
     "name": "stdout",
     "output_type": "stream",
     "text": [
      "numeric\n",
      "0.858533480306\n",
      "[[31661  8839]\n",
      " [  273 23638]]\n",
      "combine\n",
      "0.861964571269\n",
      "[[31677  8634]\n",
      " [  257 23843]]\n",
      "binary\n",
      "0.861964571269\n",
      "[[31677  8634]\n",
      " [  257 23843]]\n",
      "combine all\n",
      "0.860908850973\n",
      "[[31629  8654]\n",
      " [  305 23823]]\n"
     ]
    }
   ],
   "source": [
    "# 5->13\n",
    "clf = knn(n_neighbors=1)\n",
    "clf.fit(train_numeric_numpy, np.array(label_num)[train_index])\n",
    "print 'numeric'\n",
    "print clf.score(test_numeric_numpy, np.array(label_num_test)[test_index])\n",
    "print confu(clf.predict(test_numeric_numpy), np.array(label_num_test)[test_index])\n",
    "\n",
    "clf.fit(train_combine_numpy, np.array(label_num)[train_index])\n",
    "print 'combine'\n",
    "print clf.score(test_combine_numpy, np.array(label_num_test)[test_index])\n",
    "print confu(clf.predict(test_combine_numpy), np.array(label_num_test)[test_index])\n",
    "\n",
    "clf.fit(train_binary_numpy, np.array(label_num)[train_index])\n",
    "print 'binary'\n",
    "print clf.score(test_binary_numpy, np.array(label_num_test)[test_index])\n",
    "print confu(clf.predict(test_binary_numpy), np.array(label_num_test)[test_index])\n",
    "\n",
    "clf.fit(train_combine_all_numpy, np.array(label_num)[train_index])\n",
    "print 'combine all'\n",
    "print clf.score(test_combine_all_numpy, np.array(label_num_test)[test_index])\n",
    "print confu(clf.predict(test_combine_all_numpy), np.array(label_num_test)[test_index])"
   ]
  },
  {
   "cell_type": "code",
   "execution_count": 330,
   "metadata": {
    "collapsed": false
   },
   "outputs": [
    {
     "name": "stdout",
     "output_type": "stream",
     "text": [
      "numeric\n",
      "0.651127522089\n",
      "[[25072 53325]\n",
      " [ 4876 83553]]\n",
      "combine\n",
      "0.652464244183\n",
      "[[25115 53145]\n",
      " [ 4833 83733]]\n",
      "binary\n",
      "0.652368335871\n",
      "[[25115 53161]\n",
      " [ 4833 83717]]\n",
      "combine all\n",
      "0.652134559361\n",
      "[[25080 53165]\n",
      " [ 4868 83713]]\n"
     ]
    }
   ],
   "source": [
    "# 2->9\n",
    "clf = knn(n_neighbors=1)\n",
    "clf.fit(train_numeric_numpy, np.array(label_num)[train_index])\n",
    "print 'numeric'\n",
    "print clf.score(test_numeric_numpy, np.array(label_num_test)[test_index])\n",
    "print confu(clf.predict(test_numeric_numpy), np.array(label_num_test)[test_index])\n",
    "\n",
    "clf.fit(train_combine_numpy, np.array(label_num)[train_index])\n",
    "print 'combine'\n",
    "print clf.score(test_combine_numpy, np.array(label_num_test)[test_index])\n",
    "print confu(clf.predict(test_combine_numpy), np.array(label_num_test)[test_index])\n",
    "\n",
    "clf.fit(train_binary_numpy, np.array(label_num)[train_index])\n",
    "print 'binary'\n",
    "print clf.score(test_binary_numpy, np.array(label_num_test)[test_index])\n",
    "print confu(clf.predict(test_binary_numpy), np.array(label_num_test)[test_index])\n",
    "\n",
    "clf.fit(train_combine_all_numpy, np.array(label_num)[train_index])\n",
    "print 'combine all'\n",
    "print clf.score(test_combine_all_numpy, np.array(label_num_test)[test_index])\n",
    "print confu(clf.predict(test_combine_all_numpy), np.array(label_num_test)[test_index])"
   ]
  },
  {
   "cell_type": "code",
   "execution_count": 300,
   "metadata": {
    "collapsed": false
   },
   "outputs": [
    {
     "name": "stdout",
     "output_type": "stream",
     "text": [
      "numeric\n",
      "0.827842875949\n",
      "[[23537  3783]\n",
      " [ 6810 27401]]\n",
      "combine\n",
      "0.814386244332\n",
      "[[23535  4609]\n",
      " [ 6812 26575]]\n",
      "binary\n",
      "0.814516260097\n",
      "[[23544  4610]\n",
      " [ 6803 26574]]\n",
      "combine all\n",
      "0.813752417481\n",
      "[[23512  4625]\n",
      " [ 6835 26559]]\n"
     ]
    }
   ],
   "source": [
    "# 9->1\n",
    "clf = knn(n_neighbors=1)\n",
    "clf.fit(train_numeric_numpy, np.array(label_num)[train_index])\n",
    "print 'numeric'\n",
    "print clf.score(test_numeric_numpy, np.array(label_num_test)[test_index])\n",
    "print confu(clf.predict(test_numeric_numpy), np.array(label_num_test)[test_index])\n",
    "\n",
    "clf.fit(train_combine_numpy, np.array(label_num)[train_index])\n",
    "print 'combine'\n",
    "print clf.score(test_combine_numpy, np.array(label_num_test)[test_index])\n",
    "print confu(clf.predict(test_combine_numpy), np.array(label_num_test)[test_index])\n",
    "\n",
    "clf.fit(train_binary_numpy, np.array(label_num)[train_index])\n",
    "print 'binary'\n",
    "print clf.score(test_binary_numpy, np.array(label_num_test)[test_index])\n",
    "print confu(clf.predict(test_binary_numpy), np.array(label_num_test)[test_index])\n",
    "\n",
    "clf.fit(train_combine_all_numpy, np.array(label_num)[train_index])\n",
    "print 'combine all'\n",
    "print clf.score(test_combine_all_numpy, np.array(label_num_test)[test_index])\n",
    "print confu(clf.predict(test_combine_all_numpy), np.array(label_num_test)[test_index])"
   ]
  },
  {
   "cell_type": "code",
   "execution_count": 315,
   "metadata": {
    "collapsed": false
   },
   "outputs": [
    {
     "name": "stdout",
     "output_type": "stream",
     "text": [
      "numeric\n",
      "0.805593736927\n",
      "[[8258 2395]\n",
      " [ 858 5222]]\n",
      "combine\n",
      "0.830873124963\n",
      "[[8232 1946]\n",
      " [ 884 5671]]\n",
      "binary\n",
      "0.831291459989\n",
      "[[8239 1946]\n",
      " [ 877 5671]]\n",
      "combine all\n",
      "0.821191657204\n",
      "[[8230 2106]\n",
      " [ 886 5511]]\n"
     ]
    }
   ],
   "source": [
    "# 9->2\n",
    "clf = knn(n_neighbors=1)\n",
    "clf.fit(train_numeric_numpy, np.array(label_num)[train_index])\n",
    "print 'numeric'\n",
    "print clf.score(test_numeric_numpy, np.array(label_num_test)[test_index])\n",
    "print confu(clf.predict(test_numeric_numpy), np.array(label_num_test)[test_index])\n",
    "\n",
    "clf.fit(train_combine_numpy, np.array(label_num)[train_index])\n",
    "print 'combine'\n",
    "print clf.score(test_combine_numpy, np.array(label_num_test)[test_index])\n",
    "print confu(clf.predict(test_combine_numpy), np.array(label_num_test)[test_index])\n",
    "\n",
    "clf.fit(train_binary_numpy, np.array(label_num)[train_index])\n",
    "print 'binary'\n",
    "print clf.score(test_binary_numpy, np.array(label_num_test)[test_index])\n",
    "print confu(clf.predict(test_binary_numpy), np.array(label_num_test)[test_index])\n",
    "\n",
    "clf.fit(train_combine_all_numpy, np.array(label_num)[train_index])\n",
    "print 'combine all'\n",
    "print clf.score(test_combine_all_numpy, np.array(label_num_test)[test_index])\n",
    "print confu(clf.predict(test_combine_all_numpy), np.array(label_num_test)[test_index])"
   ]
  },
  {
   "cell_type": "code",
   "execution_count": 267,
   "metadata": {
    "collapsed": false
   },
   "outputs": [
    {
     "name": "stdout",
     "output_type": "stream",
     "text": [
      "numeric\n",
      "0.682297723376\n",
      "[[27549 50602]\n",
      " [ 2399 86276]]\n",
      "combine\n",
      "0.689646697757\n",
      "[[27580 49407]\n",
      " [ 2368 87471]]\n",
      "binary\n",
      "0.689688657643\n",
      "[[27589 49409]\n",
      " [ 2359 87469]]\n",
      "combine all\n",
      "0.687698560176\n",
      "[[27603 49755]\n",
      " [ 2345 87123]]\n"
     ]
    }
   ],
   "source": [
    "# 1->9\n",
    "clf = knn(n_neighbors=3)\n",
    "clf.fit(train_numeric_numpy, np.array(label_num)[train_index])\n",
    "print 'numeric'\n",
    "print clf.score(test_numeric_numpy, np.array(label_num_test)[test_index])\n",
    "print confu(clf.predict(test_numeric_numpy), np.array(label_num_test)[test_index])\n",
    "\n",
    "clf.fit(train_combine_numpy, np.array(label_num)[train_index])\n",
    "print 'combine'\n",
    "print clf.score(test_combine_numpy, np.array(label_num_test)[test_index])\n",
    "print confu(clf.predict(test_combine_numpy), np.array(label_num_test)[test_index])\n",
    "\n",
    "clf.fit(train_binary_numpy, np.array(label_num)[train_index])\n",
    "print 'binary'\n",
    "print clf.score(test_binary_numpy, np.array(label_num_test)[test_index])\n",
    "print confu(clf.predict(test_binary_numpy), np.array(label_num_test)[test_index])\n",
    "\n",
    "clf.fit(train_combine_all_numpy, np.array(label_num)[train_index])\n",
    "print 'combine all'\n",
    "print clf.score(test_combine_all_numpy, np.array(label_num_test)[test_index])\n",
    "print confu(clf.predict(test_combine_all_numpy), np.array(label_num_test)[test_index])"
   ]
  },
  {
   "cell_type": "code",
   "execution_count": 197,
   "metadata": {
    "collapsed": false
   },
   "outputs": [
    {
     "name": "stdout",
     "output_type": "stream",
     "text": [
      "numeric\n",
      "0.70901810793\n",
      "[[8752 4505]\n",
      " [ 364 3112]]\n",
      "combine\n",
      "0.717862905636\n",
      "[[8751 4356]\n",
      " [ 365 3261]]\n",
      "binary\n",
      "0.717862905636\n",
      "[[8751 4356]\n",
      " [ 365 3261]]\n",
      "combine all\n",
      "0.731130102193\n",
      "[[8723 4106]\n",
      " [ 393 3511]]\n"
     ]
    }
   ],
   "source": [
    "# 1->2\n",
    "clf = knn(n_neighbors=1)\n",
    "clf.fit(train_numeric_numpy, np.array(label_num)[train_index])\n",
    "print 'numeric'\n",
    "print clf.score(test_numeric_numpy, np.array(label_num_test)[test_index])\n",
    "print confu(clf.predict(test_numeric_numpy), np.array(label_num_test)[test_index])\n",
    "\n",
    "clf.fit(train_combine_numpy, np.array(label_num)[train_index])\n",
    "print 'combine'\n",
    "print clf.score(test_combine_numpy, np.array(label_num_test)[test_index])\n",
    "print confu(clf.predict(test_combine_numpy), np.array(label_num_test)[test_index])\n",
    "\n",
    "clf.fit(train_binary_numpy, np.array(label_num)[train_index])\n",
    "print 'binary'\n",
    "print clf.score(test_binary_numpy, np.array(label_num_test)[test_index])\n",
    "print confu(clf.predict(test_binary_numpy), np.array(label_num_test)[test_index])\n",
    "\n",
    "clf.fit(train_combine_all_numpy, np.array(label_num)[train_index])\n",
    "print 'combine all'\n",
    "print clf.score(test_combine_all_numpy, np.array(label_num_test)[test_index])\n",
    "print confu(clf.predict(test_combine_all_numpy), np.array(label_num_test)[test_index])"
   ]
  },
  {
   "cell_type": "code",
   "execution_count": 217,
   "metadata": {
    "collapsed": false
   },
   "outputs": [
    {
     "name": "stdout",
     "output_type": "stream",
     "text": [
      "numeric\n",
      "0.596431067267\n",
      "[[23187 17672]\n",
      " [ 7160 13512]]\n",
      "combine\n",
      "0.598917618761\n",
      "[[23225 17557]\n",
      " [ 7122 13627]]\n",
      "binary\n",
      "0.598917618761\n",
      "[[23225 17557]\n",
      " [ 7122 13627]]\n",
      "combine all\n",
      "0.59769872097\n",
      "[[23153 17560]\n",
      " [ 7194 13624]]\n"
     ]
    }
   ],
   "source": [
    "# 2->1\n",
    "clf = knn(n_neighbors=7)\n",
    "clf.fit(train_numeric_numpy, np.array(label_num)[train_index])\n",
    "print 'numeric'\n",
    "print clf.score(test_numeric_numpy, np.array(label_num_test)[test_index])\n",
    "print confu(clf.predict(test_numeric_numpy), np.array(label_num_test)[test_index])\n",
    "\n",
    "clf.fit(train_combine_numpy, np.array(label_num)[train_index])\n",
    "print 'combine'\n",
    "print clf.score(test_combine_numpy, np.array(label_num_test)[test_index])\n",
    "print confu(clf.predict(test_combine_numpy), np.array(label_num_test)[test_index])\n",
    "\n",
    "clf.fit(train_binary_numpy, np.array(label_num)[train_index])\n",
    "print 'binary'\n",
    "print clf.score(test_binary_numpy, np.array(label_num_test)[test_index])\n",
    "print confu(clf.predict(test_binary_numpy), np.array(label_num_test)[test_index])\n",
    "\n",
    "clf.fit(train_combine_all_numpy, np.array(label_num)[train_index])\n",
    "print 'combine all'\n",
    "print clf.score(test_combine_all_numpy, np.array(label_num_test)[test_index])\n",
    "print confu(clf.predict(test_combine_all_numpy), np.array(label_num_test)[test_index])"
   ]
  },
  {
   "cell_type": "code",
   "execution_count": 182,
   "metadata": {
    "collapsed": false
   },
   "outputs": [
    {
     "name": "stdout",
     "output_type": "stream",
     "text": [
      "numeric\n",
      "0.950408507542\n",
      "[[  9921    115]\n",
      " [  5882 105010]]\n",
      "combine\n",
      "0.965566287378\n",
      "[[ 11725     86]\n",
      " [  4078 105039]]\n",
      "binary\n",
      "0.965715136279\n",
      "[[ 11732     75]\n",
      " [  4071 105050]]\n",
      "combine all\n",
      "0.948423855517\n",
      "[[ 11478   1912]\n",
      " [  4325 103213]]\n"
     ]
    }
   ],
   "source": [
    "# 11->10\n",
    "clf = knn(n_neighbors=1)\n",
    "clf.fit(train_numeric_numpy, np.array(label_num)[train_index])\n",
    "print 'numeric'\n",
    "print clf.score(test_numeric_numpy, np.array(label_num_test)[test_index])\n",
    "print confu(clf.predict(test_numeric_numpy), np.array(label_num_test)[test_index])\n",
    "\n",
    "clf.fit(train_combine_numpy, np.array(label_num)[train_index])\n",
    "print 'combine'\n",
    "print clf.score(test_combine_numpy, np.array(label_num_test)[test_index])\n",
    "print confu(clf.predict(test_combine_numpy), np.array(label_num_test)[test_index])\n",
    "\n",
    "clf.fit(train_binary_numpy, np.array(label_num)[train_index])\n",
    "print 'binary'\n",
    "print clf.score(test_binary_numpy, np.array(label_num_test)[test_index])\n",
    "print confu(clf.predict(test_binary_numpy), np.array(label_num_test)[test_index])\n",
    "\n",
    "clf.fit(train_combine_all_numpy, np.array(label_num)[train_index])\n",
    "print 'combine all'\n",
    "print clf.score(test_combine_all_numpy, np.array(label_num_test)[test_index])\n",
    "print confu(clf.predict(test_combine_all_numpy), np.array(label_num_test)[test_index])"
   ]
  },
  {
   "cell_type": "code",
   "execution_count": 167,
   "metadata": {
    "collapsed": false
   },
   "outputs": [
    {
     "name": "stdout",
     "output_type": "stream",
     "text": [
      "numeric\n",
      "0.969974979149\n",
      "[[2411   17]\n",
      " [ 307 8056]]\n",
      "combine\n",
      "0.832545639885\n",
      "[[ 922   11]\n",
      " [1796 8062]]\n",
      "binary\n",
      "0.832545639885\n",
      "[[ 922   11]\n",
      " [1796 8062]]\n",
      "combine all\n",
      "0.997405245112\n",
      "[[2708   18]\n",
      " [  10 8055]]\n"
     ]
    }
   ],
   "source": [
    "# 10->11\n",
    "clf = knn(n_neighbors=1)\n",
    "clf.fit(train_numeric_numpy, np.array(label_num)[train_index])\n",
    "print 'numeric'\n",
    "print clf.score(test_numeric_numpy, np.array(label_num_test)[test_index])\n",
    "print confu(clf.predict(test_numeric_numpy), np.array(label_num_test)[test_index])\n",
    "\n",
    "clf.fit(train_combine_numpy, np.array(label_num)[train_index])\n",
    "print 'combine'\n",
    "print clf.score(test_combine_numpy, np.array(label_num_test)[test_index])\n",
    "print confu(clf.predict(test_combine_numpy), np.array(label_num_test)[test_index])\n",
    "\n",
    "clf.fit(train_binary_numpy, np.array(label_num)[train_index])\n",
    "print 'binary'\n",
    "print clf.score(test_binary_numpy, np.array(label_num_test)[test_index])\n",
    "print confu(clf.predict(test_binary_numpy), np.array(label_num_test)[test_index])\n",
    "\n",
    "clf.fit(train_combine_all_numpy, np.array(label_num)[train_index])\n",
    "print 'combine all'\n",
    "print clf.score(test_combine_all_numpy, np.array(label_num_test)[test_index])\n",
    "print confu(clf.predict(test_combine_all_numpy), np.array(label_num_test)[test_index])"
   ]
  },
  {
   "cell_type": "code",
   "execution_count": 142,
   "metadata": {
    "collapsed": false
   },
   "outputs": [
    {
     "name": "stdout",
     "output_type": "stream",
     "text": [
      "numeric\n",
      "0.890386222138\n",
      "[[66048  1393]\n",
      " [ 6741    24]]\n",
      "combine\n",
      "0.980998841064\n",
      "[[72771  1392]\n",
      " [   18    25]]\n",
      "binary\n",
      "0.980998841064\n",
      "[[72771  1392]\n",
      " [   18    25]]\n",
      "combine all\n",
      "0.980325041102\n",
      "[[72723  1394]\n",
      " [   66    23]]\n"
     ]
    }
   ],
   "source": [
    "# 6->8\n",
    "clf = knn(n_neighbors=1)\n",
    "clf.fit(train_numeric_numpy, np.array(label_num)[train_index])\n",
    "print 'numeric'\n",
    "print clf.score(test_numeric_numpy, np.array(label_num_test)[test_index])\n",
    "print confu(clf.predict(test_numeric_numpy), np.array(label_num_test)[test_index])\n",
    "\n",
    "clf.fit(train_combine_numpy, np.array(label_num)[train_index])\n",
    "print 'combine'\n",
    "print clf.score(test_combine_numpy, np.array(label_num_test)[test_index])\n",
    "print confu(clf.predict(test_combine_numpy), np.array(label_num_test)[test_index])\n",
    "\n",
    "clf.fit(train_binary_numpy, np.array(label_num)[train_index])\n",
    "print 'binary'\n",
    "print clf.score(test_binary_numpy, np.array(label_num_test)[test_index])\n",
    "print confu(clf.predict(test_binary_numpy), np.array(label_num_test)[test_index])\n",
    "\n",
    "clf.fit(train_combine_all_numpy, np.array(label_num)[train_index])\n",
    "print 'combine all'\n",
    "print clf.score(test_combine_all_numpy, np.array(label_num_test)[test_index])\n",
    "print confu(clf.predict(test_combine_all_numpy), np.array(label_num_test)[test_index])"
   ]
  },
  {
   "cell_type": "code",
   "execution_count": 235,
   "metadata": {
    "collapsed": false
   },
   "outputs": [
    {
     "name": "stdout",
     "output_type": "stream",
     "text": [
      "numeric\n",
      "0.985362694301\n",
      "[[7427   51]\n",
      " [  62  180]]\n",
      "combine\n",
      "0.962823834197\n",
      "[[7430  228]\n",
      " [  59    3]]\n",
      "binary\n",
      "0.962823834197\n",
      "[[7430  228]\n",
      " [  59    3]]\n",
      "combine all\n",
      "0.97603626943\n",
      "[[7430  126]\n",
      " [  59  105]]\n"
     ]
    }
   ],
   "source": [
    "# 8->6\n",
    "clf = knn(n_neighbors=3)\n",
    "clf.fit(train_numeric_numpy, np.array(label_num)[train_index])\n",
    "print 'numeric'\n",
    "print clf.score(test_numeric_numpy, np.array(label_num_test)[test_index])\n",
    "print confu(clf.predict(test_numeric_numpy), np.array(label_num_test)[test_index])\n",
    "\n",
    "clf.fit(train_combine_numpy, np.array(label_num)[train_index])\n",
    "print 'combine'\n",
    "print clf.score(test_combine_numpy, np.array(label_num_test)[test_index])\n",
    "print confu(clf.predict(test_combine_numpy), np.array(label_num_test)[test_index])\n",
    "\n",
    "clf.fit(train_binary_numpy, np.array(label_num)[train_index])\n",
    "print 'binary'\n",
    "print clf.score(test_binary_numpy, np.array(label_num_test)[test_index])\n",
    "print confu(clf.predict(test_binary_numpy), np.array(label_num_test)[test_index])\n",
    "\n",
    "clf.fit(train_combine_all_numpy, np.array(label_num)[train_index])\n",
    "print 'combine all'\n",
    "print clf.score(test_combine_all_numpy, np.array(label_num_test)[test_index])\n",
    "print confu(clf.predict(test_combine_all_numpy), np.array(label_num_test)[test_index])"
   ]
  },
  {
   "cell_type": "code",
   "execution_count": 106,
   "metadata": {
    "collapsed": false
   },
   "outputs": [],
   "source": [
    "def replace_value(training_normal_numpy, key, loc):  \n",
    "    training_normal_numpy[loc][key+6] = 1\n",
    "    \n",
    "def pca_transform(training_numpy, testing_numpy, pca_dim, columns):\n",
    "    \n",
    "    min_max = preprocessing.MinMaxScaler()\n",
    "    min_max.partial_fit(training_numpy)\n",
    "    x_scaled = min_max.fit_transform(training_numpy)\n",
    "    testting_x_scaled = min_max.transform(testing_numpy)\n",
    "    training_norm = pd.DataFrame(x_scaled, columns = columns)\n",
    "    testing_norm = pd.DataFrame(testting_x_scaled, columns = columns)\n",
    "    '''\n",
    "    training_norm = preprocessing.normalize(training_numpy)\n",
    "    testing_norm = preprocessing.normalize(testing_numpy)\n",
    "    '''\n",
    "    #pca_model = PCA(n_components=pca_dim)\n",
    "    training_pca_value = pca_model.fit_transform(training_norm)\n",
    "    testing_pca_value = pca_model.transform(testing_norm)\n",
    "    return (training_pca_value, testing_pca_value)"
   ]
  },
  {
   "cell_type": "code",
   "execution_count": null,
   "metadata": {
    "collapsed": true
   },
   "outputs": [],
   "source": [
    "#Botnet7\n",
    "print 'binary:      ', 'Acc:', score_binary, 'F1', score_binary_f1\n",
    "print 'combine:     ', 'Acc:', score_combine, 'F1', score_combine_f1\n",
    "print 'combine_all: ', 'Acc:', score_combine_all, 'F1', score_combine_all_f1\n",
    "print 'numeric:     ', 'Acc:', score_numeric, 'F1', score_numeric_f1"
   ]
  },
  {
   "cell_type": "code",
   "execution_count": 158,
   "metadata": {
    "collapsed": false
   },
   "outputs": [
    {
     "name": "stdout",
     "output_type": "stream",
     "text": [
      "binary:       Acc: 0.99941287699 F1 0.999662183023\n",
      "combine:      Acc: 0.958729432604 F1 0.907483300665\n",
      "combine_all:  Acc: 0.946265648141 F1 0.87955864882\n",
      "numeric:      Acc: 0.972725183872 F1 0.939356174673\n"
     ]
    }
   ],
   "source": [
    "#Botnet10\n",
    "print 'binary:      ', 'Acc:', score_binary, 'F1', score_binary_f1\n",
    "print 'combine:     ', 'Acc:', score_combine, 'F1', score_combine_f1\n",
    "print 'combine_all: ', 'Acc:', score_combine_all, 'F1', score_combine_all_f1\n",
    "print 'numeric:     ', 'Acc:', score_numeric, 'F1', score_numeric_f1"
   ]
  },
  {
   "cell_type": "code",
   "execution_count": 48,
   "metadata": {
    "collapsed": false
   },
   "outputs": [
    {
     "name": "stdout",
     "output_type": "stream",
     "text": [
      "binary:       Acc: 0.962350131044 F1 0.958671428359\n",
      "combine:      Acc: 0.958944845606 F1 0.955146853962\n",
      "combine_all:  Acc: 0.951775583389 F1 0.947186702314\n",
      "numeric:      Acc: 0.960019096502 F1 0.95593108265\n"
     ]
    }
   ],
   "source": [
    "#Botnet2\n",
    "print 'binary:      ', 'Acc:', score_binary, 'F1', score_binary_f1\n",
    "print 'combine:     ', 'Acc:', score_combine, 'F1', score_combine_f1\n",
    "print 'combine_all: ', 'Acc:', score_combine_all, 'F1', score_combine_all_f1\n",
    "print 'numeric:     ', 'Acc:', score_numeric, 'F1', score_numeric_f1"
   ]
  },
  {
   "cell_type": "code",
   "execution_count": 26,
   "metadata": {
    "collapsed": false
   },
   "outputs": [
    {
     "name": "stdout",
     "output_type": "stream",
     "text": [
      "binary:       Acc: 0.995018544091 F1 0.951670210384\n",
      "combine:      Acc: 0.99146021811 F1 0.913190520356\n",
      "combine_all:  Acc: 0.985730154439 F1 0.862629535109\n",
      "numeric:      Acc: 0.9953181345 F1 0.95432296753\n"
     ]
    }
   ],
   "source": [
    "#Botnet4\n",
    "print 'binary:      ', 'Acc:', score_binary, 'F1', score_binary_f1\n",
    "print 'combine:     ', 'Acc:', score_combine, 'F1', score_combine_f1\n",
    "print 'combine_all: ', 'Acc:', score_combine_all, 'F1', score_combine_all_f1\n",
    "print 'numeric:     ', 'Acc:', score_numeric, 'F1', score_numeric_f1"
   ]
  },
  {
   "cell_type": "code",
   "execution_count": 134,
   "metadata": {
    "collapsed": false
   },
   "outputs": [
    {
     "name": "stdout",
     "output_type": "stream",
     "text": [
      "binary: Acc: 0.962262994278 F1 0.861301754614\n",
      "binary: Acc: 0.959869901815 F1 0.85101579824\n",
      "binary: Acc: 0.946062146801 F1 0.803844702875\n",
      "binary: Acc: 0.962081884011 F1 0.861702834214\n"
     ]
    }
   ],
   "source": [
    "#Botnet5\n",
    "print 'binary:', 'Acc:', score_binary, 'F1', score_binary_f1\n",
    "print 'binary:', 'Acc:', score_combine, 'F1', score_combine_f1\n",
    "print 'binary:', 'Acc:', score_combine_all, 'F1', score_combine_all_f1\n",
    "print 'binary:', 'Acc:', score_numeric, 'F1', score_numeric_f1"
   ]
  },
  {
   "cell_type": "code",
   "execution_count": 64,
   "metadata": {
    "collapsed": false
   },
   "outputs": [
    {
     "name": "stdout",
     "output_type": "stream",
     "text": [
      "binary:       Acc: 0.996761908792 F1 0.946761627763\n",
      "combine:      Acc: 0.99689152642 F1 0.948732512421\n",
      "combine_all:  Acc: 0.995337373797 F1 0.922966383097\n",
      "numeric:      Acc: 0.995984538712 F1 0.93411424598\n"
     ]
    }
   ],
   "source": [
    "#Botnet6\n",
    "print 'binary:      ', 'Acc:', score_binary, 'F1', score_binary_f1\n",
    "print 'combine:     ', 'Acc:', score_combine, 'F1', score_combine_f1\n",
    "print 'combine_all: ', 'Acc:', score_combine_all, 'F1', score_combine_all_f1\n",
    "print 'numeric:     ', 'Acc:', score_numeric, 'F1', score_numeric_f1"
   ]
  },
  {
   "cell_type": "code",
   "execution_count": 81,
   "metadata": {
    "collapsed": false
   },
   "outputs": [
    {
     "name": "stdout",
     "output_type": "stream",
     "text": [
      "binary:       Acc: 0.965441054689 F1 0.521583577713\n",
      "combine:      Acc: 0.964289973169 F1 0.511119715488\n",
      "combine_all:  Acc: 0.964296598099 F1 0.522499275499\n",
      "numeric:      Acc: 0.964866342045 F1 0.504412955466\n"
     ]
    }
   ],
   "source": [
    "#Botnet7\n",
    "print 'binary:      ', 'Acc:', score_binary, 'F1', score_binary_f1\n",
    "print 'combine:     ', 'Acc:', score_combine, 'F1', score_combine_f1\n",
    "print 'combine_all: ', 'Acc:', score_combine_all, 'F1', score_combine_all_f1\n",
    "print 'numeric:     ', 'Acc:', score_numeric, 'F1', score_numeric_f1"
   ]
  },
  {
   "cell_type": "code",
   "execution_count": 121,
   "metadata": {
    "collapsed": false
   },
   "outputs": [
    {
     "name": "stdout",
     "output_type": "stream",
     "text": [
      "binary:       Acc: 0.997498670271 F1 0.998319970368\n",
      "combine:      Acc: 0.995645960683 F1 0.997092234484\n",
      "combine_all:  Acc: 0.997220592047 F1 0.998134387061\n",
      "numeric:      Acc: 0.995645960683 F1 0.997096414093\n"
     ]
    }
   ],
   "source": [
    "#Botnet11\n",
    "print 'binary:      ', 'Acc:', score_binary, 'F1', score_binary_f1\n",
    "print 'combine:     ', 'Acc:', score_combine, 'F1', score_combine_f1\n",
    "print 'combine_all: ', 'Acc:', score_combine_all, 'F1', score_combine_all_f1\n",
    "print 'numeric:     ', 'Acc:', score_numeric, 'F1', score_numeric_f1"
   ]
  },
  {
   "cell_type": "code",
   "execution_count": 140,
   "metadata": {
    "collapsed": false
   },
   "outputs": [
    {
     "name": "stdout",
     "output_type": "stream",
     "text": [
      "binary:       Acc: 0.974359713493 F1 0.942860894913\n",
      "combine:      Acc: 0.958729432604 F1 0.907483300665\n",
      "combine_all:  Acc: 0.946265648141 F1 0.87955864882\n",
      "numeric:      Acc: 0.972725183872 F1 0.939356174673\n"
     ]
    }
   ],
   "source": [
    "#Botnet12\n",
    "print 'binary:      ', 'Acc:', score_binary, 'F1', score_binary_f1\n",
    "print 'combine:     ', 'Acc:', score_combine, 'F1', score_combine_f1\n",
    "print 'combine_all: ', 'Acc:', score_combine_all, 'F1', score_combine_all_f1\n",
    "print 'numeric:     ', 'Acc:', score_numeric, 'F1', score_numeric_f1"
   ]
  },
  {
   "cell_type": "code",
   "execution_count": 160,
   "metadata": {
    "collapsed": false
   },
   "outputs": [
    {
     "name": "stdout",
     "output_type": "stream",
     "text": [
      "binary:       Acc: 0.930652688008 F1 0.931089662672\n",
      "combine:      Acc: 0.928767367979 F1 0.929346697383\n",
      "combine_all:  Acc: 0.925305507225 F1 0.925887383653\n",
      "numeric:      Acc: 0.932927823922 F1 0.933503236479\n"
     ]
    }
   ],
   "source": [
    "#Botnet13\n",
    "print 'binary:      ', 'Acc:', score_binary, 'F1', score_binary_f1\n",
    "print 'combine:     ', 'Acc:', score_combine, 'F1', score_combine_f1\n",
    "print 'combine_all: ', 'Acc:', score_combine_all, 'F1', score_combine_all_f1\n",
    "print 'numeric:     ', 'Acc:', score_numeric, 'F1', score_numeric_f1"
   ]
  },
  {
   "cell_type": "code",
   "execution_count": 92,
   "metadata": {
    "collapsed": false
   },
   "outputs": [
    {
     "data": {
      "text/plain": [
       "([(5, 0.94532841864945638),\n",
       "  (10, 0.94624838185092819),\n",
       "  (15, 0.94772303622880849),\n",
       "  (20, 0.95048292583322413),\n",
       "  (25, 0.94790702886910283),\n",
       "  (30, 0.94772303622880849),\n",
       "  (35, 0.94772303622880849),\n",
       "  (40, 0.94956296263175233),\n",
       "  (45, 0.94919429903728214),\n",
       "  (50, 0.94900996724004716),\n",
       "  (55, 0.94900996724004716),\n",
       "  (60, 0.94900996724004716)],\n",
       " [(5, 0.74691258376772751),\n",
       "  (10, 0.74907337959290687),\n",
       "  (15, 0.75558882432173358),\n",
       "  (20, 0.77208134261641437),\n",
       "  (25, 0.75675583877416419),\n",
       "  (30, 0.75558882432173358),\n",
       "  (35, 0.75558882432173358),\n",
       "  (40, 0.76022057805226162),\n",
       "  (45, 0.75854980406621253),\n",
       "  (50, 0.75783881935238395),\n",
       "  (55, 0.75783881935238395),\n",
       "  (60, 0.75783881935238395)])"
      ]
     },
     "execution_count": 92,
     "metadata": {},
     "output_type": "execute_result"
    }
   ],
   "source": [
    "#combine feat.binary\n",
    "pca_result_combine, pca_result_combine_f1"
   ]
  },
  {
   "cell_type": "code",
   "execution_count": 84,
   "metadata": {
    "collapsed": true
   },
   "outputs": [
    {
     "data": {
      "text/plain": [
       "([(5, 0.94477644072857314),\n",
       "  (10, 0.94624838185092819),\n",
       "  (15, 0.94882699207057475),\n",
       "  (20, 0.95048292583322413),\n",
       "  (25, 0.95048292583322413),\n",
       "  (30, 0.94790702886910283),\n",
       "  (35, 0.94790702886910283),\n",
       "  (40, 0.94845900678998607),\n",
       "  (45, 0.95048292583322413),\n",
       "  (50, 0.95011426223875417),\n",
       "  (55, 0.94992993044151919),\n",
       "  (60, 0.94992993044151919)],\n",
       " [(5, 0.7456617971094518),\n",
       "  (10, 0.74907337959290687),\n",
       "  (15, 0.75901760636687521),\n",
       "  (20, 0.77208134261641437),\n",
       "  (25, 0.77208134261641437),\n",
       "  (30, 0.75675583877416419),\n",
       "  (35, 0.75675583877416419),\n",
       "  (40, 0.75738982251648768),\n",
       "  (45, 0.76270673998114802),\n",
       "  (50, 0.76103596599509893),\n",
       "  (55, 0.76032498128127035),\n",
       "  (60, 0.76032498128127035)])"
      ]
     },
     "execution_count": 84,
     "metadata": {},
     "output_type": "execute_result"
    }
   ],
   "source": [
    "#all_binary\n",
    "pca_result_binary,pca_result_binary_f1 "
   ]
  },
  {
   "cell_type": "code",
   "execution_count": 29,
   "metadata": {
    "collapsed": false
   },
   "outputs": [
    {
     "data": {
      "text/plain": [
       "[(5, 0.95453042476276018),\n",
       " (10, 0.95047614019601789),\n",
       " (15, 0.94918785255701654),\n",
       " (20, 0.95176951518912867),\n",
       " (25, 0.94845544329986531)]"
      ]
     },
     "execution_count": 29,
     "metadata": {},
     "output_type": "execute_result"
    }
   ],
   "source": [
    "pca_result_numeric #numeric"
   ]
  },
  {
   "cell_type": "code",
   "execution_count": 80,
   "metadata": {
    "collapsed": false
   },
   "outputs": [
    {
     "data": {
      "text/plain": [
       "([(5, 0.9451410344397555),\n",
       "  (10, 0.9451410344397555),\n",
       "  (15, 0.94882495712893089),\n",
       "  (20, 0.94882495712893089),\n",
       "  (25, 0.94882495712893089),\n",
       "  (30, 0.9467993423009895),\n",
       "  (35, 0.94587836162869565),\n",
       "  (40, 0.9451410344397555),\n",
       "  (45, 0.9451410344397555),\n",
       "  (50, 0.9451410344397555),\n",
       "  (55, 0.9451410344397555),\n",
       "  (60, 0.9451410344397555)],\n",
       " [(5, 0.73237513825166423),\n",
       "  (10, 0.73237513825166423),\n",
       "  (15, 0.75374321849066894),\n",
       "  (20, 0.75374321849066894),\n",
       "  (25, 0.75374321849066894),\n",
       "  (30, 0.740790417187559),\n",
       "  (35, 0.73587164174816777),\n",
       "  (40, 0.73237513825166423),\n",
       "  (45, 0.73237513825166423),\n",
       "  (50, 0.73237513825166423),\n",
       "  (55, 0.73237513825166423),\n",
       "  (60, 0.73237513825166423)])"
      ]
     },
     "execution_count": 80,
     "metadata": {},
     "output_type": "execute_result"
    }
   ],
   "source": [
    "pca_result_combine_all, pca_result_combine_all_f1  #all_combine"
   ]
  },
  {
   "cell_type": "code",
   "execution_count": 1134,
   "metadata": {
    "collapsed": false
   },
   "outputs": [
    {
     "data": {
      "text/plain": [
       "[(5, 0.72850000000000004), (6, 0.72770000000000001), (7, 0.72770000000000001)]"
      ]
     },
     "execution_count": 1134,
     "metadata": {},
     "output_type": "execute_result"
    }
   ],
   "source": [
    "pca_result_combine # no_str_column"
   ]
  },
  {
   "cell_type": "code",
   "execution_count": 97,
   "metadata": {
    "collapsed": false
   },
   "outputs": [
    {
     "name": "stdout",
     "output_type": "stream",
     "text": [
      "5\n",
      "start scoring\n",
      "0.954530424763 0.807489798452\n",
      "10\n",
      "start scoring\n",
      "0.950476140196 0.805703235855\n",
      "15\n",
      "start scoring\n",
      "0.949187852557 0.802415552446\n",
      "20\n",
      "start scoring\n",
      "0.951769515189 0.811814110157\n",
      "25\n",
      "start scoring\n"
     ]
    },
    {
     "name": "stderr",
     "output_type": "stream",
     "text": [
      "/usr/local/lib/python2.7/site-packages/sklearn/externals/joblib/hashing.py:197: DeprecationWarning: Changing the shape of non-C contiguous array by\n",
      "descriptor assignment is deprecated. To maintain\n",
      "the Fortran contiguity of a multidimensional Fortran\n",
      "array, use 'a.T.view(...).T' instead\n",
      "  obj_bytes_view = obj.view(self.np.uint8)\n",
      "/usr/local/lib/python2.7/site-packages/sklearn/externals/joblib/hashing.py:197: DeprecationWarning: Changing the shape of non-C contiguous array by\n",
      "descriptor assignment is deprecated. To maintain\n",
      "the Fortran contiguity of a multidimensional Fortran\n",
      "array, use 'a.T.view(...).T' instead\n",
      "  obj_bytes_view = obj.view(self.np.uint8)\n",
      "/usr/local/lib/python2.7/site-packages/sklearn/externals/joblib/hashing.py:197: DeprecationWarning: Changing the shape of non-C contiguous array by\n",
      "descriptor assignment is deprecated. To maintain\n",
      "the Fortran contiguity of a multidimensional Fortran\n",
      "array, use 'a.T.view(...).T' instead\n",
      "  obj_bytes_view = obj.view(self.np.uint8)\n",
      "/usr/local/lib/python2.7/site-packages/sklearn/externals/joblib/hashing.py:197: DeprecationWarning: Changing the shape of non-C contiguous array by\n",
      "descriptor assignment is deprecated. To maintain\n",
      "the Fortran contiguity of a multidimensional Fortran\n",
      "array, use 'a.T.view(...).T' instead\n",
      "  obj_bytes_view = obj.view(self.np.uint8)\n",
      "/usr/local/lib/python2.7/site-packages/sklearn/externals/joblib/hashing.py:197: DeprecationWarning: Changing the shape of non-C contiguous array by\n",
      "descriptor assignment is deprecated. To maintain\n",
      "the Fortran contiguity of a multidimensional Fortran\n",
      "array, use 'a.T.view(...).T' instead\n",
      "  obj_bytes_view = obj.view(self.np.uint8)\n"
     ]
    },
    {
     "name": "stdout",
     "output_type": "stream",
     "text": [
      "0.9484554433 0.80348380557\n"
     ]
    },
    {
     "name": "stderr",
     "output_type": "stream",
     "text": [
      "/usr/local/lib/python2.7/site-packages/sklearn/externals/joblib/hashing.py:197: DeprecationWarning: Changing the shape of non-C contiguous array by\n",
      "descriptor assignment is deprecated. To maintain\n",
      "the Fortran contiguity of a multidimensional Fortran\n",
      "array, use 'a.T.view(...).T' instead\n",
      "  obj_bytes_view = obj.view(self.np.uint8)\n",
      "/usr/local/lib/python2.7/site-packages/sklearn/externals/joblib/hashing.py:197: DeprecationWarning: Changing the shape of non-C contiguous array by\n",
      "descriptor assignment is deprecated. To maintain\n",
      "the Fortran contiguity of a multidimensional Fortran\n",
      "array, use 'a.T.view(...).T' instead\n",
      "  obj_bytes_view = obj.view(self.np.uint8)\n",
      "/usr/local/lib/python2.7/site-packages/sklearn/externals/joblib/hashing.py:197: DeprecationWarning: Changing the shape of non-C contiguous array by\n",
      "descriptor assignment is deprecated. To maintain\n",
      "the Fortran contiguity of a multidimensional Fortran\n",
      "array, use 'a.T.view(...).T' instead\n",
      "  obj_bytes_view = obj.view(self.np.uint8)\n",
      "/usr/local/lib/python2.7/site-packages/sklearn/externals/joblib/hashing.py:197: DeprecationWarning: Changing the shape of non-C contiguous array by\n",
      "descriptor assignment is deprecated. To maintain\n",
      "the Fortran contiguity of a multidimensional Fortran\n",
      "array, use 'a.T.view(...).T' instead\n",
      "  obj_bytes_view = obj.view(self.np.uint8)\n",
      "/usr/local/lib/python2.7/site-packages/sklearn/externals/joblib/hashing.py:197: DeprecationWarning: Changing the shape of non-C contiguous array by\n",
      "descriptor assignment is deprecated. To maintain\n",
      "the Fortran contiguity of a multidimensional Fortran\n",
      "array, use 'a.T.view(...).T' instead\n",
      "  obj_bytes_view = obj.view(self.np.uint8)\n"
     ]
    }
   ],
   "source": [
    "svc = SVC()  \n",
    "pca_result_numeric= []\n",
    "pca_result_numeric_f1= []\n",
    "#clf = BaggingClassifier(svc, n_estimators=n_estimators)\n",
    "for j in range(5,len(train_numpy[0]),5):\n",
    "    print j\n",
    "    (training_pca_value, testing_pca_value) = pca_transform(train_numpy[train_index], train_numpy[train_index[:2]], j, train_copy.columns)\n",
    "    #score = cross_val_score(training_pca_value, train_label, cv=10, n_jobs=-1)\n",
    "        \n",
    "    try: \n",
    "        print \"start scoring\"\n",
    "        score_f1= np.average(cross_val_score(svc, training_pca_value, np.array(label_num)[train_index], cv=5, n_jobs=-1, scoring='f1'))\n",
    "        score = np.average(cross_val_score(svc, training_pca_value, np.array(label_num)[train_index], cv=5, n_jobs=-1))\n",
    "        print  score, score_f1\n",
    "        pca_result_numeric.append((j, score))\n",
    "        pca_result_numeric_f1.append((j, score_f1))\n",
    "    except ValueError:\n",
    "        print 'broke'"
   ]
  },
  {
   "cell_type": "code",
   "execution_count": 53,
   "metadata": {
    "collapsed": false
   },
   "outputs": [
    {
     "data": {
      "text/plain": [
       "[(5, 0.7456617971094518),\n",
       " (10, 0.74907337959290687),\n",
       " (15, 0.75901760636687521),\n",
       " (20, 0.77208134261641437),\n",
       " (25, 0.77208134261641437),\n",
       " (30, 0.75675583877416419),\n",
       " (35, 0.75675583877416419),\n",
       " (40, 0.75738982251648768),\n",
       " (45, 0.76270673998114802),\n",
       " (50, 0.76103596599509893),\n",
       " (55, 0.76032498128127035),\n",
       " (60, 0.76032498128127035)]"
      ]
     },
     "execution_count": 53,
     "metadata": {},
     "output_type": "execute_result"
    }
   ],
   "source": [
    "pca_result_binary"
   ]
  },
  {
   "cell_type": "code",
   "execution_count": 959,
   "metadata": {
    "collapsed": false,
    "scrolled": true
   },
   "outputs": [
    {
     "name": "stdout",
     "output_type": "stream",
     "text": [
      "2\n",
      "start scoring\n",
      "-1 2 0.875916742499\n",
      "best: -1 2 0.875916742499\n",
      "3\n",
      "start scoring\n",
      "-1 3 0.883431772777\n",
      "best: -1 3 0.883431772777\n",
      "4\n",
      "start scoring\n",
      "-1 4 0.885459762328\n",
      "best: -1 4 0.885459762328\n",
      "5\n",
      "start scoring\n",
      "-1 5 0.948456293534\n",
      "best: -1 5 0.948456293534\n",
      "6\n",
      "start scoring\n",
      "-1 6 0.948456293534\n",
      "7\n",
      "start scoring\n",
      "-1 7 0.946616367132\n",
      "8\n",
      "start scoring\n",
      "-1 8 0.946616367132\n",
      "9\n",
      "start scoring\n",
      "-1 9 0.94588039657\n",
      "10\n",
      "start scoring\n",
      "-1 10 0.946984352412\n",
      "11\n",
      "start scoring\n",
      "-1 11 0.946984352412\n",
      "12\n",
      "start scoring\n",
      "-1 12 0.946984352412\n",
      "13\n",
      "start scoring\n",
      "-1 13 0.947168345052\n",
      "14\n",
      "start scoring\n",
      "-1 14 0.946432374491\n",
      "15\n",
      "start scoring\n",
      "-1 15 0.946432374491\n",
      "16\n",
      "start scoring\n",
      "-1 16 0.946616367132\n",
      "17\n",
      "start scoring\n",
      "-1 17 0.946616367132\n",
      "18\n",
      "start scoring\n",
      "-1 18 0.946616367132\n",
      "19\n",
      "start scoring\n",
      "-1 19 0.948456293534\n",
      "20\n",
      "start scoring\n",
      "-1 20 0.948456293534\n",
      "21\n",
      "start scoring\n",
      "-1 21 0.946616367132\n",
      "22\n",
      "start scoring\n",
      "-1 22 0.946616367132\n",
      "23\n",
      "start scoring\n",
      "-1 23 0.946616367132\n",
      "24\n",
      "start scoring\n",
      "-1 24 0.948456293534\n",
      "25\n",
      "start scoring\n",
      "-1 25 0.948456293534\n",
      "26\n",
      "start scoring\n",
      "-1 26 0.948456293534\n",
      "27\n",
      "start scoring\n",
      "-1 27 0.948456293534\n",
      "28\n",
      "start scoring\n",
      "-1 28 0.948456293534\n",
      "29\n",
      "start scoring\n",
      "-1 29 0.948456293534\n",
      "30\n",
      "start scoring\n",
      "-1 30 0.948456293534\n",
      "31\n",
      "start scoring\n",
      "-1 31 0.948456293534\n",
      "32\n",
      "start scoring\n",
      "-1 32 0.948456293534\n",
      "33\n",
      "start scoring\n",
      "-1 33 0.948456293534\n",
      "34\n",
      "start scoring\n",
      "-1 34 0.948456293534\n",
      "35\n",
      "start scoring\n",
      "-1 35 0.948456293534\n",
      "36\n",
      "start scoring\n",
      "-1 36 0.948456293534\n",
      "2\n",
      "start scoring\n",
      "0 2 0.920651198034\n",
      "3\n",
      "start scoring\n",
      "0 3 0.947166310111\n",
      "4\n",
      "start scoring\n",
      "0 4 0.94514103444\n",
      "5\n",
      "start scoring\n",
      "0 5 0.944776440729\n",
      "6\n",
      "start scoring\n",
      "0 6 0.944407777134\n",
      "7\n",
      "start scoring\n",
      "0 7 0.942936514326\n",
      "8\n",
      "start scoring\n",
      "0 8 0.942936514326\n",
      "9\n",
      "start scoring\n",
      "0 9 0.942936514326\n",
      "10\n",
      "start scoring\n",
      "0 10 0.942936514326\n",
      "11\n",
      "start scoring\n",
      "0 11 0.942936514326\n",
      "12\n",
      "start scoring\n",
      "0 12 0.942936514326\n",
      "13\n",
      "start scoring\n",
      "0 13 0.94625075595\n",
      "14\n",
      "start scoring\n",
      "0 14 0.946435087747\n",
      "15\n",
      "start scoring\n",
      "0 15 0.946435087747\n",
      "16\n",
      "start scoring\n",
      "0 16 0.946435087747\n",
      "17\n",
      "start scoring\n",
      "0 17 0.946435087747\n",
      "18\n",
      "start scoring\n",
      "0 18 0.946435087747\n",
      "19\n",
      "start scoring\n",
      "0 19 0.946435087747\n",
      "20\n",
      "start scoring\n",
      "0 20 0.946251095106\n",
      "21\n",
      "start scoring\n",
      "0 21 0.946251095106\n",
      "22\n",
      "start scoring\n",
      "0 22 0.946251095106\n",
      "23\n",
      "start scoring\n",
      "0 23 0.946066763309\n",
      "24\n",
      "start scoring\n",
      "0 24 0.946066763309\n",
      "25\n",
      "start scoring\n",
      "0 25 0.946066763309\n",
      "26\n",
      "start scoring\n",
      "0 26 0.946066763309\n",
      "27\n",
      "start scoring\n",
      "0 27 0.946066763309\n",
      "28\n",
      "start scoring\n",
      "0 28 0.946066763309\n",
      "29\n",
      "start scoring\n",
      "0 29 0.946066763309\n",
      "30\n",
      "start scoring\n",
      "0 30 0.946066763309\n",
      "31\n",
      "start scoring\n",
      "0 31 0.945698099715\n",
      "32\n",
      "start scoring\n",
      "0 32 0.945698099715\n",
      "33\n",
      "start scoring\n",
      "0 33 0.945698099715\n",
      "34\n",
      "start scoring\n",
      "0 34 0.945698099715\n",
      "35\n",
      "start scoring\n",
      "0 35 0.945698099715\n",
      "36\n",
      "start scoring\n",
      "0 36 0.945698099715\n",
      "2\n",
      "start scoring\n",
      "1 2 0.943303142978\n",
      "3\n",
      "start scoring\n",
      "1 3 0.947534973705\n",
      "4\n",
      "start scoring\n",
      "1 4 0.943119150338\n",
      "5\n",
      "start scoring\n",
      "1 5 0.943673841515\n",
      "6\n",
      "start scoring\n",
      "1 6 0.943673841515\n",
      "7\n",
      "start scoring\n",
      "1 7 0.945146800108\n",
      "8\n",
      "start scoring\n",
      "1 8 0.94459448303\n",
      "9\n",
      "start scoring\n",
      "1 9 0.946066763309\n",
      "10\n",
      "start scoring\n",
      "1 10 0.94625075595\n",
      "11\n",
      "start scoring\n",
      "1 11 0.94625075595\n",
      "12\n",
      "start scoring\n",
      "1 12 0.94625075595\n",
      "13\n",
      "start scoring\n",
      "1 13 0.946986726511\n",
      "14\n",
      "start scoring\n",
      "1 14 0.947539043589\n",
      "15\n",
      "start scoring\n",
      "1 15 0.947355050948\n",
      "16\n",
      "start scoring\n",
      "1 16 0.952322852236\n",
      "best: 1 16 0.952322852236\n",
      "17\n",
      "start scoring\n",
      "1 17 0.952322852236\n",
      "18\n",
      "start scoring\n",
      "1 18 0.952138859596\n",
      "19\n",
      "start scoring\n",
      "1 19 0.952138859596\n",
      "20\n",
      "start scoring\n",
      "1 20 0.949746955272\n",
      "21\n",
      "start scoring\n",
      "1 21 0.951218896394\n",
      "22\n",
      "start scoring\n",
      "1 22 0.951218896394\n",
      "23\n",
      "start scoring\n",
      "1 23 0.949378969991\n",
      "24\n",
      "start scoring\n",
      "1 24 0.949378969991\n",
      "25\n",
      "start scoring\n",
      "1 25 0.949378969991\n",
      "26\n",
      "start scoring\n",
      "1 26 0.949378969991\n",
      "27\n",
      "start scoring\n",
      "1 27 0.949378969991\n",
      "28\n",
      "start scoring\n",
      "1 28 0.949378969991\n",
      "29\n",
      "start scoring\n",
      "1 29 0.949378969991\n",
      "30\n",
      "start scoring\n",
      "1 30 0.949378969991\n",
      "31\n",
      "start scoring\n",
      "1 31 0.949378969991\n",
      "32\n",
      "start scoring\n",
      "1 32 0.949378969991\n",
      "33\n",
      "start scoring\n",
      "1 33 0.949378969991\n",
      "34\n",
      "start scoring\n",
      "1 34 0.949378969991\n",
      "35\n",
      "start scoring\n",
      "1 35 0.949378969991\n",
      "36\n",
      "start scoring\n",
      "1 36 0.949378969991\n",
      "2\n",
      "start scoring\n",
      "2 2 0.944775762415\n",
      "3\n",
      "start scoring\n",
      "2 3 0.943673841515\n",
      "4\n",
      "start scoring\n",
      "2 4 0.943673841515\n",
      "5\n",
      "start scoring\n",
      "2 5 0.943857834155\n",
      "6\n",
      "start scoring\n",
      "2 6 0.943673841515\n",
      "7\n",
      "start scoring\n",
      "2 7 0.948642660273\n",
      "8\n",
      "start scoring\n",
      "2 8 0.948642660273\n",
      "9\n",
      "start scoring\n",
      "2 9 0.946986726511\n",
      "10\n",
      "start scoring\n",
      "2 10 0.94680273387\n",
      "11\n",
      "start scoring\n",
      "2 11 0.94680273387\n",
      "12\n",
      "start scoring\n",
      "2 12 0.94625075595\n",
      "13\n",
      "start scoring\n",
      "2 13 0.945689620791\n",
      "14\n",
      "start scoring\n",
      "2 14 0.948817834833\n",
      "15\n",
      "start scoring\n",
      "2 15 0.948817834833\n",
      "16\n",
      "start scoring\n",
      "2 16 0.948817834833\n",
      "17\n",
      "start scoring\n",
      "2 17 0.948817834833\n",
      "18\n",
      "start scoring\n",
      "2 18 0.948633503036\n",
      "19\n",
      "start scoring\n",
      "2 19 0.948633503036\n",
      "20\n",
      "start scoring\n",
      "2 20 0.947897193318\n",
      "21\n",
      "start scoring\n",
      "2 21 0.947897193318\n",
      "22\n",
      "start scoring\n",
      "2 22 0.947897193318\n",
      "23\n",
      "start scoring\n",
      "2 23 0.94476965759\n",
      "24\n",
      "start scoring\n",
      "2 24 0.944953989387\n",
      "25\n",
      "start scoring\n",
      "2 25 0.94476965759\n",
      "26\n",
      "start scoring\n",
      "2 26 0.94476965759\n",
      "27\n",
      "start scoring\n",
      "2 27 0.944953989387\n",
      "28\n",
      "start scoring\n",
      "2 28 0.944953989387\n",
      "29\n",
      "start scoring\n",
      "2 29 0.944953989387\n",
      "30\n",
      "start scoring\n",
      "2 30 0.945137982027\n",
      "31\n",
      "start scoring\n",
      "2 31 0.945137982027\n",
      "32\n",
      "start scoring\n",
      "2 32 0.945137982027\n",
      "33\n",
      "start scoring\n",
      "2 33 0.945137982027\n",
      "34\n",
      "start scoring\n",
      "2 34 0.945322313825\n",
      "35\n",
      "start scoring\n",
      "2 35 0.945322313825\n",
      "36\n",
      "start scoring\n",
      "2 36 0.945322313825\n",
      "324.192570925\n"
     ]
    }
   ],
   "source": [
    "best_score = 0\n",
    "n_estimators = 10\n",
    "start = time.time()\n",
    "for i in range(-1,3,1):\n",
    "    svc = SVC(C=pow(10,i))    \n",
    "    #clf = BaggingClassifier(svc, n_estimators=n_estimators)\n",
    "    for j in range(2,len(train_numpy[0])):\n",
    "        print j\n",
    "        (training_pca_value, testing_pca_value) = pca_transform(train_numpy[train_index], train_numpy[:10], j, train_copy.columns)\n",
    "        #score = cross_val_score(training_pca_value, train_label, cv=10, n_jobs=-1)\n",
    "        \n",
    "        try: \n",
    "            print \"start scoring\"\n",
    "            score = np.average(cross_val_score(svc, training_pca_value, np.array(label_num)[train_index], cv=5))\n",
    "            print  i, j, score\n",
    "            if score > best_score:\n",
    "                print  \"best:\",i, j, score\n",
    "                best_param = (i, j, score, svc)\n",
    "                best_score = score\n",
    "                best_model = clf\n",
    "            #print score\n",
    "    \n",
    "        except ValueError:\n",
    "            print 'broke'\n",
    "print time.time()-start"
   ]
  },
  {
   "cell_type": "code",
   "execution_count": 905,
   "metadata": {
    "collapsed": false
   },
   "outputs": [
    {
     "data": {
      "text/plain": [
       "(1,\n",
       " 2,\n",
       " 0.92084095290702039,\n",
       " SVC(C=10, cache_size=200, class_weight='auto', coef0=0.0,\n",
       "   decision_function_shape=None, degree=3, gamma='auto', kernel='rbf',\n",
       "   max_iter=-1, probability=False, random_state=None, shrinking=True,\n",
       "   tol=0.001, verbose=False))"
      ]
     },
     "execution_count": 905,
     "metadata": {},
     "output_type": "execute_result"
    }
   ],
   "source": [
    "best_param"
   ]
  },
  {
   "cell_type": "code",
   "execution_count": 960,
   "metadata": {
    "collapsed": false
   },
   "outputs": [
    {
     "data": {
      "text/plain": [
       "(1,\n",
       " 16,\n",
       " 0.95232285223616808,\n",
       " SVC(C=10, cache_size=200, class_weight=None, coef0=0.0,\n",
       "   decision_function_shape=None, degree=3, gamma='auto', kernel='rbf',\n",
       "   max_iter=-1, probability=False, random_state=None, shrinking=True,\n",
       "   tol=0.001, verbose=False))"
      ]
     },
     "execution_count": 960,
     "metadata": {},
     "output_type": "execute_result"
    }
   ],
   "source": [
    "best_param"
   ]
  },
  {
   "cell_type": "code",
   "execution_count": 81,
   "metadata": {
    "collapsed": true
   },
   "outputs": [
    {
     "data": {
      "text/plain": [
       "BaggingClassifier(base_estimator=SVC(C=1000, cache_size=200, class_weight=None, coef0=0.0,\n",
       "  decision_function_shape='ovo', degree=3, gamma='auto', kernel='rbf',\n",
       "  max_iter=-1, probability=False, random_state=None, shrinking=True,\n",
       "  tol=0.001, verbose=False),\n",
       "         bootstrap=True, bootstrap_features=False, max_features=1.0,\n",
       "         max_samples=1.0, n_estimators=5, n_jobs=1, oob_score=False,\n",
       "         random_state=None, verbose=0, warm_start=False)"
      ]
     },
     "execution_count": 81,
     "metadata": {},
     "output_type": "execute_result"
    }
   ],
   "source": [
    "# 0.84550775488658769 binary code\n",
    "# 0.84074148825511175 combine"
   ]
  },
  {
   "cell_type": "code",
   "execution_count": 961,
   "metadata": {
    "collapsed": false
   },
   "outputs": [
    {
     "data": {
      "text/plain": [
       "0.84136250019406622"
      ]
     },
     "execution_count": 961,
     "metadata": {},
     "output_type": "execute_result"
    }
   ],
   "source": [
    "svc = SVC(C=pow(10,1))    \n",
    "\n",
    "(training_pca_value, testing_pca_value) = pca_transform(train_numpy[train_index], test_numpy[test_index], 16, train_copy.columns)\n",
    "svc.fit(training_pca_value, np.array(label_num)[train_index])\n",
    "svc.score(testing_pca_value, np.array(label_num_test)[test_index])"
   ]
  },
  {
   "cell_type": "code",
   "execution_count": 808,
   "metadata": {
    "collapsed": false
   },
   "outputs": [
    {
     "data": {
      "text/plain": [
       "(1736, 1676, 60)"
      ]
     },
     "execution_count": 808,
     "metadata": {},
     "output_type": "execute_result"
    }
   ],
   "source": [
    "len(test_index), len(np.where(np.array(label_num_test) == 0)[0]), len(np.where(np.array(label_num_test) == 1)[0])"
   ]
  },
  {
   "cell_type": "code",
   "execution_count": 924,
   "metadata": {
    "collapsed": false
   },
   "outputs": [],
   "source": [
    "result = svc.predict(testing_pca_value)"
   ]
  },
  {
   "cell_type": "code",
   "execution_count": 911,
   "metadata": {
    "collapsed": false
   },
   "outputs": [
    {
     "data": {
      "text/plain": [
       "array([[31896,  9913],\n",
       "       [   38, 22564]])"
      ]
     },
     "execution_count": 911,
     "metadata": {},
     "output_type": "execute_result"
    }
   ],
   "source": [
    "confu(result, np.array(label_num_test)[test_index])"
   ]
  },
  {
   "cell_type": "code",
   "execution_count": 925,
   "metadata": {
    "collapsed": false
   },
   "outputs": [
    {
     "data": {
      "text/plain": [
       "array([[31934, 10258],\n",
       "       [    0, 22219]])"
      ]
     },
     "execution_count": 925,
     "metadata": {},
     "output_type": "execute_result"
    }
   ],
   "source": [
    "confu(result, np.array(label_num_test)[test_index])"
   ]
  },
  {
   "cell_type": "code",
   "execution_count": null,
   "metadata": {
    "collapsed": true
   },
   "outputs": [],
   "source": []
  }
 ],
 "metadata": {
  "kernelspec": {
   "display_name": "Python 2",
   "language": "python",
   "name": "python2"
  },
  "language_info": {
   "codemirror_mode": {
    "name": "ipython",
    "version": 2
   },
   "file_extension": ".py",
   "mimetype": "text/x-python",
   "name": "python",
   "nbconvert_exporter": "python",
   "pygments_lexer": "ipython2",
   "version": "2.7.10"
  }
 },
 "nbformat": 4,
 "nbformat_minor": 0
}
